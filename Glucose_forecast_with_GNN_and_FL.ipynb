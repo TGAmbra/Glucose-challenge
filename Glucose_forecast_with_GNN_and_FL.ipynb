{
  "cells": [
    {
      "cell_type": "code",
      "source": [
        "#install dependencies\n",
        "!pip install networkx[default]\n",
        "!pip install torch_geometric\n",
        "\n",
        "# Optional dependencies:\n",
        "!pip install pyg_lib torch_scatter torch_sparse torch_cluster torch_spline_conv -f https://data.pyg.org/whl/torch-2.1.0+cu121.html\n"
      ],
      "metadata": {
        "id": "MSI-2HRZ4khj",
        "colab": {
          "base_uri": "https://localhost:8080/"
        },
        "outputId": "09aa2b26-d2a8-4176-8224-88c7d7d9c3ae"
      },
      "execution_count": 1,
      "outputs": [
        {
          "output_type": "stream",
          "name": "stdout",
          "text": [
            "Requirement already satisfied: networkx[default] in /usr/local/lib/python3.10/dist-packages (3.2.1)\n",
            "Requirement already satisfied: numpy>=1.22 in /usr/local/lib/python3.10/dist-packages (from networkx[default]) (1.23.5)\n",
            "Requirement already satisfied: scipy!=1.11.0,!=1.11.1,>=1.9 in /usr/local/lib/python3.10/dist-packages (from networkx[default]) (1.11.4)\n",
            "Requirement already satisfied: matplotlib>=3.5 in /usr/local/lib/python3.10/dist-packages (from networkx[default]) (3.7.1)\n",
            "Requirement already satisfied: pandas>=1.4 in /usr/local/lib/python3.10/dist-packages (from networkx[default]) (1.5.3)\n",
            "Requirement already satisfied: contourpy>=1.0.1 in /usr/local/lib/python3.10/dist-packages (from matplotlib>=3.5->networkx[default]) (1.2.0)\n",
            "Requirement already satisfied: cycler>=0.10 in /usr/local/lib/python3.10/dist-packages (from matplotlib>=3.5->networkx[default]) (0.12.1)\n",
            "Requirement already satisfied: fonttools>=4.22.0 in /usr/local/lib/python3.10/dist-packages (from matplotlib>=3.5->networkx[default]) (4.47.2)\n",
            "Requirement already satisfied: kiwisolver>=1.0.1 in /usr/local/lib/python3.10/dist-packages (from matplotlib>=3.5->networkx[default]) (1.4.5)\n",
            "Requirement already satisfied: packaging>=20.0 in /usr/local/lib/python3.10/dist-packages (from matplotlib>=3.5->networkx[default]) (23.2)\n",
            "Requirement already satisfied: pillow>=6.2.0 in /usr/local/lib/python3.10/dist-packages (from matplotlib>=3.5->networkx[default]) (9.4.0)\n",
            "Requirement already satisfied: pyparsing>=2.3.1 in /usr/local/lib/python3.10/dist-packages (from matplotlib>=3.5->networkx[default]) (3.1.1)\n",
            "Requirement already satisfied: python-dateutil>=2.7 in /usr/local/lib/python3.10/dist-packages (from matplotlib>=3.5->networkx[default]) (2.8.2)\n",
            "Requirement already satisfied: pytz>=2020.1 in /usr/local/lib/python3.10/dist-packages (from pandas>=1.4->networkx[default]) (2023.3.post1)\n",
            "Requirement already satisfied: six>=1.5 in /usr/local/lib/python3.10/dist-packages (from python-dateutil>=2.7->matplotlib>=3.5->networkx[default]) (1.16.0)\n",
            "Collecting torch_geometric\n",
            "  Downloading torch_geometric-2.4.0-py3-none-any.whl (1.0 MB)\n",
            "\u001b[2K     \u001b[90m━━━━━━━━━━━━━━━━━━━━━━━━━━━━━━━━━━━━━━━━\u001b[0m \u001b[32m1.0/1.0 MB\u001b[0m \u001b[31m5.1 MB/s\u001b[0m eta \u001b[36m0:00:00\u001b[0m\n",
            "\u001b[?25hRequirement already satisfied: tqdm in /usr/local/lib/python3.10/dist-packages (from torch_geometric) (4.66.1)\n",
            "Requirement already satisfied: numpy in /usr/local/lib/python3.10/dist-packages (from torch_geometric) (1.23.5)\n",
            "Requirement already satisfied: scipy in /usr/local/lib/python3.10/dist-packages (from torch_geometric) (1.11.4)\n",
            "Requirement already satisfied: jinja2 in /usr/local/lib/python3.10/dist-packages (from torch_geometric) (3.1.3)\n",
            "Requirement already satisfied: requests in /usr/local/lib/python3.10/dist-packages (from torch_geometric) (2.31.0)\n",
            "Requirement already satisfied: pyparsing in /usr/local/lib/python3.10/dist-packages (from torch_geometric) (3.1.1)\n",
            "Requirement already satisfied: scikit-learn in /usr/local/lib/python3.10/dist-packages (from torch_geometric) (1.2.2)\n",
            "Requirement already satisfied: psutil>=5.8.0 in /usr/local/lib/python3.10/dist-packages (from torch_geometric) (5.9.5)\n",
            "Requirement already satisfied: MarkupSafe>=2.0 in /usr/local/lib/python3.10/dist-packages (from jinja2->torch_geometric) (2.1.4)\n",
            "Requirement already satisfied: charset-normalizer<4,>=2 in /usr/local/lib/python3.10/dist-packages (from requests->torch_geometric) (3.3.2)\n",
            "Requirement already satisfied: idna<4,>=2.5 in /usr/local/lib/python3.10/dist-packages (from requests->torch_geometric) (3.6)\n",
            "Requirement already satisfied: urllib3<3,>=1.21.1 in /usr/local/lib/python3.10/dist-packages (from requests->torch_geometric) (2.0.7)\n",
            "Requirement already satisfied: certifi>=2017.4.17 in /usr/local/lib/python3.10/dist-packages (from requests->torch_geometric) (2023.11.17)\n",
            "Requirement already satisfied: joblib>=1.1.1 in /usr/local/lib/python3.10/dist-packages (from scikit-learn->torch_geometric) (1.3.2)\n",
            "Requirement already satisfied: threadpoolctl>=2.0.0 in /usr/local/lib/python3.10/dist-packages (from scikit-learn->torch_geometric) (3.2.0)\n",
            "Installing collected packages: torch_geometric\n",
            "Successfully installed torch_geometric-2.4.0\n",
            "Looking in links: https://data.pyg.org/whl/torch-2.1.0+cu121.html\n",
            "Collecting pyg_lib\n",
            "  Downloading https://data.pyg.org/whl/torch-2.1.0%2Bcu121/pyg_lib-0.3.1%2Bpt21cu121-cp310-cp310-linux_x86_64.whl (2.4 MB)\n",
            "\u001b[2K     \u001b[90m━━━━━━━━━━━━━━━━━━━━━━━━━━━━━━━━━━━━━━━━\u001b[0m \u001b[32m2.4/2.4 MB\u001b[0m \u001b[31m27.2 MB/s\u001b[0m eta \u001b[36m0:00:00\u001b[0m\n",
            "\u001b[?25hCollecting torch_scatter\n",
            "  Downloading https://data.pyg.org/whl/torch-2.1.0%2Bcu121/torch_scatter-2.1.2%2Bpt21cu121-cp310-cp310-linux_x86_64.whl (10.8 MB)\n",
            "\u001b[2K     \u001b[90m━━━━━━━━━━━━━━━━━━━━━━━━━━━━━━━━━━━━━━━━\u001b[0m \u001b[32m10.8/10.8 MB\u001b[0m \u001b[31m76.4 MB/s\u001b[0m eta \u001b[36m0:00:00\u001b[0m\n",
            "\u001b[?25hCollecting torch_sparse\n",
            "  Downloading https://data.pyg.org/whl/torch-2.1.0%2Bcu121/torch_sparse-0.6.18%2Bpt21cu121-cp310-cp310-linux_x86_64.whl (5.0 MB)\n",
            "\u001b[2K     \u001b[90m━━━━━━━━━━━━━━━━━━━━━━━━━━━━━━━━━━━━━━━━\u001b[0m \u001b[32m5.0/5.0 MB\u001b[0m \u001b[31m69.8 MB/s\u001b[0m eta \u001b[36m0:00:00\u001b[0m\n",
            "\u001b[?25hCollecting torch_cluster\n",
            "  Downloading https://data.pyg.org/whl/torch-2.1.0%2Bcu121/torch_cluster-1.6.3%2Bpt21cu121-cp310-cp310-linux_x86_64.whl (3.3 MB)\n",
            "\u001b[2K     \u001b[90m━━━━━━━━━━━━━━━━━━━━━━━━━━━━━━━━━━━━━━━━\u001b[0m \u001b[32m3.3/3.3 MB\u001b[0m \u001b[31m55.0 MB/s\u001b[0m eta \u001b[36m0:00:00\u001b[0m\n",
            "\u001b[?25hCollecting torch_spline_conv\n",
            "  Downloading https://data.pyg.org/whl/torch-2.1.0%2Bcu121/torch_spline_conv-1.2.2%2Bpt21cu121-cp310-cp310-linux_x86_64.whl (932 kB)\n",
            "\u001b[2K     \u001b[90m━━━━━━━━━━━━━━━━━━━━━━━━━━━━━━━━━━━━━━━━\u001b[0m \u001b[32m932.1/932.1 kB\u001b[0m \u001b[31m51.6 MB/s\u001b[0m eta \u001b[36m0:00:00\u001b[0m\n",
            "\u001b[?25hRequirement already satisfied: scipy in /usr/local/lib/python3.10/dist-packages (from torch_sparse) (1.11.4)\n",
            "Requirement already satisfied: numpy<1.28.0,>=1.21.6 in /usr/local/lib/python3.10/dist-packages (from scipy->torch_sparse) (1.23.5)\n",
            "Installing collected packages: torch_spline_conv, torch_scatter, pyg_lib, torch_sparse, torch_cluster\n",
            "Successfully installed pyg_lib-0.3.1+pt21cu121 torch_cluster-1.6.3+pt21cu121 torch_scatter-2.1.2+pt21cu121 torch_sparse-0.6.18+pt21cu121 torch_spline_conv-1.2.2+pt21cu121\n"
          ]
        }
      ]
    },
    {
      "cell_type": "code",
      "source": [
        "%matplotlib inline\n",
        "\n",
        "import os\n",
        "import json\n",
        "import collections\n",
        "import numpy as np\n",
        "import pandas as pd\n",
        "\n",
        "import matplotlib\n",
        "import matplotlib.pyplot as plt\n",
        "\n",
        "import torch\n",
        "import torch.nn as nn\n",
        "import torch.nn.functional as F\n",
        "from sklearn.model_selection import train_test_split\n",
        "\n",
        "\n",
        "from torch_geometric.data import Data\n",
        "from torch_geometric.utils.convert import to_networkx\n",
        "from torch_geometric.nn import GCNConv\n",
        "\n",
        "import networkx as nx\n",
        "\n",
        "#import zipfile module\n",
        "from zipfile import ZipFile\n",
        "#import my files\n",
        "from get_graph import get_pandas_df, A_matrix,create_data_object,create_dataset_objs\n",
        "from get_model import simpleGNN, accuracy, train\n",
        "os.environ['TORCH'] = torch.__version__\n",
        "print(torch.__version__)\n"
      ],
      "metadata": {
        "id": "CcRUle5o50V6",
        "colab": {
          "base_uri": "https://localhost:8080/"
        },
        "outputId": "b204225b-435b-46e5-e284-bf168ff03a08"
      },
      "execution_count": 2,
      "outputs": [
        {
          "output_type": "stream",
          "name": "stdout",
          "text": [
            "2.1.0+cu121\n"
          ]
        }
      ]
    },
    {
      "cell_type": "markdown",
      "metadata": {
        "id": "KtIRDgRlAN7H"
      },
      "source": [
        "# Load and preprocess data"
      ]
    },
    {
      "cell_type": "code",
      "execution_count": 3,
      "metadata": {
        "id": "7UP7rIAgAMqI"
      },
      "outputs": [],
      "source": [
        "#Manually drop zip\n",
        "\n",
        "with ZipFile('Blood Glucose Prediction Challenge.zip', 'r') as f:\n",
        "  #extract in current directory\n",
        "  f.extractall()"
      ]
    },
    {
      "cell_type": "code",
      "execution_count": 4,
      "metadata": {
        "colab": {
          "base_uri": "https://localhost:8080/"
        },
        "id": "jhlp3eomwFkx",
        "outputId": "b9362b7d-51ef-4ea3-ed2c-670966088b8a"
      },
      "outputs": [
        {
          "output_type": "stream",
          "name": "stdout",
          "text": [
            "/content/Ohio Data/Ohio2018_processed/train\n",
            "Dropped missing_cbg in/content/Ohio Data/Ohio2018_processed/train/588-ws-training_processed.csv\n",
            "Dropped missing_cbg in/content/Ohio Data/Ohio2018_processed/train/563-ws-training_processed.csv\n",
            "Dropped missing_cbg in/content/Ohio Data/Ohio2018_processed/train/575-ws-training_processed.csv\n",
            "Dropped missing_cbg in/content/Ohio Data/Ohio2018_processed/train/570-ws-training_processed.csv\n",
            "Dropped missing_cbg in/content/Ohio Data/Ohio2018_processed/train/559-ws-training_processed.csv\n",
            "Dropped missing_cbg in/content/Ohio Data/Ohio2018_processed/train/591-ws-training_processed.csv\n",
            "Dropped empty rows in/content/Ohio Data/Ohio2018_processed/train/588-ws-training_processed.csv\n",
            "Dropped empty rows in/content/Ohio Data/Ohio2018_processed/train/563-ws-training_processed.csv\n",
            "Dropped empty rows in/content/Ohio Data/Ohio2018_processed/train/575-ws-training_processed.csv\n",
            "Dropped empty rows in/content/Ohio Data/Ohio2018_processed/train/570-ws-training_processed.csv\n",
            "Dropped empty rows in/content/Ohio Data/Ohio2018_processed/train/559-ws-training_processed.csv\n",
            "Dropped empty rows in/content/Ohio Data/Ohio2018_processed/train/591-ws-training_processed.csv\n",
            "Dropped all NaNs in /content/Ohio Data/Ohio2018_processed/train/588-ws-training_processed.csv\n",
            "Dropped all NaNs in /content/Ohio Data/Ohio2018_processed/train/563-ws-training_processed.csv\n",
            "Dropped all NaNs in /content/Ohio Data/Ohio2018_processed/train/575-ws-training_processed.csv\n",
            "Dropped all NaNs in /content/Ohio Data/Ohio2018_processed/train/570-ws-training_processed.csv\n",
            "Dropped all NaNs in /content/Ohio Data/Ohio2018_processed/train/559-ws-training_processed.csv\n",
            "Dropped all NaNs in /content/Ohio Data/Ohio2018_processed/train/591-ws-training_processed.csv\n",
            "Dropped missing_cbg in/content/Ohio Data/Ohio2018_processed/test/563-ws-testing_processed.csv\n",
            "Dropped missing_cbg in/content/Ohio Data/Ohio2018_processed/test/575-ws-testing_processed.csv\n",
            "Dropped missing_cbg in/content/Ohio Data/Ohio2018_processed/test/570-ws-testing_processed.csv\n",
            "Dropped missing_cbg in/content/Ohio Data/Ohio2018_processed/test/588-ws-testing_processed.csv\n",
            "Dropped missing_cbg in/content/Ohio Data/Ohio2018_processed/test/559-ws-testing_processed.csv\n",
            "Dropped missing_cbg in/content/Ohio Data/Ohio2018_processed/test/591-ws-testing_processed.csv\n",
            "Dropped empty rows in/content/Ohio Data/Ohio2018_processed/test/563-ws-testing_processed.csv\n",
            "Dropped empty rows in/content/Ohio Data/Ohio2018_processed/test/575-ws-testing_processed.csv\n",
            "Dropped empty rows in/content/Ohio Data/Ohio2018_processed/test/570-ws-testing_processed.csv\n",
            "Dropped empty rows in/content/Ohio Data/Ohio2018_processed/test/588-ws-testing_processed.csv\n",
            "Dropped empty rows in/content/Ohio Data/Ohio2018_processed/test/559-ws-testing_processed.csv\n",
            "Dropped empty rows in/content/Ohio Data/Ohio2018_processed/test/591-ws-testing_processed.csv\n",
            "Dropped all NaNs in /content/Ohio Data/Ohio2018_processed/test/563-ws-testing_processed.csv\n",
            "Dropped all NaNs in /content/Ohio Data/Ohio2018_processed/test/575-ws-testing_processed.csv\n",
            "Dropped all NaNs in /content/Ohio Data/Ohio2018_processed/test/570-ws-testing_processed.csv\n",
            "Dropped all NaNs in /content/Ohio Data/Ohio2018_processed/test/588-ws-testing_processed.csv\n",
            "Dropped all NaNs in /content/Ohio Data/Ohio2018_processed/test/559-ws-testing_processed.csv\n",
            "Dropped all NaNs in /content/Ohio Data/Ohio2018_processed/test/591-ws-testing_processed.csv\n",
            "Dropped missing_cbg in/content/Ohio Data/Ohio2020_processed/train/544-ws-training_processed.csv\n",
            "Dropped missing_cbg in/content/Ohio Data/Ohio2020_processed/train/552-ws-training_processed.csv\n",
            "Dropped missing_cbg in/content/Ohio Data/Ohio2020_processed/train/540-ws-training_processed.csv\n",
            "Dropped missing_cbg in/content/Ohio Data/Ohio2020_processed/train/596-ws-training_processed.csv\n",
            "Dropped missing_cbg in/content/Ohio Data/Ohio2020_processed/train/584-ws-training_processed.csv\n",
            "Dropped missing_cbg in/content/Ohio Data/Ohio2020_processed/train/567-ws-training_processed.csv\n",
            "Dropped hr in/content/Ohio Data/Ohio2020_processed/train/544-ws-training_processed.csv\n",
            "Dropped hr in/content/Ohio Data/Ohio2020_processed/train/552-ws-training_processed.csv\n",
            "Dropped hr in/content/Ohio Data/Ohio2020_processed/train/540-ws-training_processed.csv\n",
            "Dropped hr in/content/Ohio Data/Ohio2020_processed/train/596-ws-training_processed.csv\n",
            "Dropped hr in/content/Ohio Data/Ohio2020_processed/train/584-ws-training_processed.csv\n",
            "Dropped hr in/content/Ohio Data/Ohio2020_processed/train/567-ws-training_processed.csv\n",
            "Dropped empty rows in/content/Ohio Data/Ohio2020_processed/train/544-ws-training_processed.csv\n",
            "Dropped empty rows in/content/Ohio Data/Ohio2020_processed/train/552-ws-training_processed.csv\n",
            "Dropped empty rows in/content/Ohio Data/Ohio2020_processed/train/540-ws-training_processed.csv\n",
            "Dropped empty rows in/content/Ohio Data/Ohio2020_processed/train/596-ws-training_processed.csv\n",
            "Dropped empty rows in/content/Ohio Data/Ohio2020_processed/train/584-ws-training_processed.csv\n",
            "Dropped empty rows in/content/Ohio Data/Ohio2020_processed/train/567-ws-training_processed.csv\n",
            "Dropped all NaNs in /content/Ohio Data/Ohio2020_processed/train/544-ws-training_processed.csv\n",
            "Dropped all NaNs in /content/Ohio Data/Ohio2020_processed/train/552-ws-training_processed.csv\n",
            "Dropped all NaNs in /content/Ohio Data/Ohio2020_processed/train/540-ws-training_processed.csv\n",
            "Dropped all NaNs in /content/Ohio Data/Ohio2020_processed/train/596-ws-training_processed.csv\n",
            "Dropped all NaNs in /content/Ohio Data/Ohio2020_processed/train/584-ws-training_processed.csv\n",
            "Dropped all NaNs in /content/Ohio Data/Ohio2020_processed/train/567-ws-training_processed.csv\n",
            "Dropped missing_cbg in/content/Ohio Data/Ohio2020_processed/test/552-ws-testing_processed.csv\n",
            "Dropped missing_cbg in/content/Ohio Data/Ohio2020_processed/test/596-ws-testing_processed.csv\n",
            "Dropped missing_cbg in/content/Ohio Data/Ohio2020_processed/test/544-ws-testing_processed.csv\n",
            "Dropped missing_cbg in/content/Ohio Data/Ohio2020_processed/test/540-ws-testing_processed.csv\n",
            "Dropped missing_cbg in/content/Ohio Data/Ohio2020_processed/test/584-ws-testing_processed.csv\n",
            "Dropped missing_cbg in/content/Ohio Data/Ohio2020_processed/test/567-ws-testing_processed.csv\n",
            "Dropped hr in/content/Ohio Data/Ohio2020_processed/test/552-ws-testing_processed.csv\n",
            "Dropped hr in/content/Ohio Data/Ohio2020_processed/test/596-ws-testing_processed.csv\n",
            "Dropped hr in/content/Ohio Data/Ohio2020_processed/test/544-ws-testing_processed.csv\n",
            "Dropped hr in/content/Ohio Data/Ohio2020_processed/test/540-ws-testing_processed.csv\n",
            "Dropped hr in/content/Ohio Data/Ohio2020_processed/test/584-ws-testing_processed.csv\n",
            "Dropped hr in/content/Ohio Data/Ohio2020_processed/test/567-ws-testing_processed.csv\n",
            "Dropped empty rows in/content/Ohio Data/Ohio2020_processed/test/552-ws-testing_processed.csv\n",
            "Dropped empty rows in/content/Ohio Data/Ohio2020_processed/test/596-ws-testing_processed.csv\n",
            "Dropped empty rows in/content/Ohio Data/Ohio2020_processed/test/544-ws-testing_processed.csv\n",
            "Dropped empty rows in/content/Ohio Data/Ohio2020_processed/test/540-ws-testing_processed.csv\n",
            "Dropped empty rows in/content/Ohio Data/Ohio2020_processed/test/584-ws-testing_processed.csv\n",
            "Dropped empty rows in/content/Ohio Data/Ohio2020_processed/test/567-ws-testing_processed.csv\n",
            "Dropped all NaNs in /content/Ohio Data/Ohio2020_processed/test/552-ws-testing_processed.csv\n",
            "Dropped all NaNs in /content/Ohio Data/Ohio2020_processed/test/596-ws-testing_processed.csv\n",
            "Dropped all NaNs in /content/Ohio Data/Ohio2020_processed/test/544-ws-testing_processed.csv\n",
            "Dropped all NaNs in /content/Ohio Data/Ohio2020_processed/test/540-ws-testing_processed.csv\n",
            "Dropped all NaNs in /content/Ohio Data/Ohio2020_processed/test/584-ws-testing_processed.csv\n",
            "Dropped all NaNs in /content/Ohio Data/Ohio2020_processed/test/567-ws-testing_processed.csv\n"
          ]
        }
      ],
      "source": [
        "!python3 preprocess.py"
      ]
    },
    {
      "cell_type": "code",
      "execution_count": null,
      "metadata": {
        "id": "KuAtL9_tdYyn",
        "cellView": "form"
      },
      "outputs": [],
      "source": [
        "# @title Analyse correlation between features\n",
        "##Analyse each training data in both 2018 and 2020\n",
        "\n",
        "#2018\n",
        "def plot_corr():\n",
        "  directory = os.getcwd()\n",
        "  for filename in os.listdir(directory):\n",
        "    file_path = os.path.join(directory, filename)\n",
        "    df = pd.read_csv(file_path)\n",
        "    #get column labels without index\n",
        "    labels = df.columns.values.tolist()\n",
        "    #create figures\n",
        "    fig = plt.figure()\n",
        "    ax = fig.add_subplot(111)\n",
        "    cax = ax.matshow(df.corr(), interpolation='nearest')\n",
        "    #set side colorbar\n",
        "    fig.colorbar(cax)\n",
        "    # set ticks and labels\n",
        "    ax.set_xticklabels(['']+labels)\n",
        "    ax.set_yticklabels(['']+labels)\n",
        "\n",
        "    plt.show()\n",
        "\n",
        "plot_corr()\n",
        "#in 2018 corr between cbg-finger, carbInput-bolus, and occasionally hr-gsr"
      ]
    },
    {
      "cell_type": "code",
      "execution_count": 5,
      "metadata": {
        "id": "lAGdiUmwdaJ_",
        "colab": {
          "base_uri": "https://localhost:8080/"
        },
        "outputId": "5b56b584-98f1-45ef-f5dd-8e598e261699"
      },
      "outputs": [
        {
          "output_type": "stream",
          "name": "stdout",
          "text": [
            "/content\n",
            "/content/Ohio Data/Ohio2020_processed/train\n"
          ]
        }
      ],
      "source": [
        "# @title\n",
        "#2020\n",
        "#goes back to /content\n",
        "!pwd\n",
        "!mkdir Checkpoints\n",
        "%cd /content/Ohio Data/Ohio2020_processed/train\n",
        "#plot_corr()\n",
        "#in 2020 hr is correlated with everything"
      ]
    },
    {
      "cell_type": "markdown",
      "metadata": {
        "id": "rnoGBFgsTpvN"
      },
      "source": [
        "As shown in the correlation graphs in 2018 significant correlations were found only between cbg-finger, carbInput-bolus, and occasionally hr-gsr. While in 2020, hr was not present."
      ]
    },
    {
      "cell_type": "code",
      "execution_count": 6,
      "metadata": {
        "colab": {
          "base_uri": "https://localhost:8080/"
        },
        "id": "TkfMCDyhYg-U",
        "outputId": "c94ec1a8-1dd4-47bc-a3ee-46d0d4930d5f"
      },
      "outputs": [
        {
          "output_type": "stream",
          "name": "stdout",
          "text": [
            "/content/Ohio Data/Ohio2020_processed/train\n"
          ]
        }
      ],
      "source": [
        "# @title Create training df\n",
        "!pwd\n",
        "from get_graph import get_pandas_df, A_matrix,create_data_object,create_dataset_objs\n",
        "from get_model import simpleGNN, accuracy, get_epochs_and_in_feat,train\n",
        "\n",
        "#Labels\n",
        "columns_2018 = ['cbg', 'finger', 'hr', 'gsr', 'carbInput', 'bolus']\n",
        "columns_2020 = ['cbg', 'finger', 'gsr', 'carbInput', 'bolus']"
      ]
    },
    {
      "cell_type": "markdown",
      "source": [
        "# Patient 559"
      ],
      "metadata": {
        "id": "Nv3gNkz9-FTP"
      }
    },
    {
      "cell_type": "code",
      "source": [
        "# patient 559\n",
        "file_path = '/content/Ohio Data/Ohio2018_processed/train/559-ws-training_processed.csv'\n",
        "dataframe = get_pandas_df(file_path)\n",
        "\n",
        "if dataframe is not None:\n",
        "  if len(dataframe) == 2:\n",
        "      train_df, val_df = dataframe\n",
        "      print('train_df, val_df created')\n",
        "  else:\n",
        "      test_df = dataframe\n",
        "      print('test_df created')\n",
        "file_path = '/content/Ohio Data/Ohio2018_processed/test/559-ws-testing_processed.csv'\n",
        "dataframe = get_pandas_df(file_path)\n",
        "if dataframe is not None:\n",
        "  if len(dataframe) == 2:\n",
        "      train_df, val_df = dataframe\n",
        "      print('train_df, val_df created')\n",
        "  else:\n",
        "      test_df = dataframe\n",
        "      print('test_df created')\n",
        "\n",
        "# #Plot train_df(it only has 2 values), while val_df only 1\n",
        "# for c in columns_2018[1:]:\n",
        "#     plt.plot(train_df.index, train_df[c], label=c)\n",
        "\n",
        "# plt.xticks(rotation=90)\n",
        "# plt.legend()\n",
        "# plt.ylabel(\"mg/dL\")\n",
        "# plt.xlabel(\"Time\")\n",
        "# plt.title(train_file_name[:3]+\" \"+train_file_name[7:15])\n",
        "# plt.show()"
      ],
      "metadata": {
        "colab": {
          "base_uri": "https://localhost:8080/"
        },
        "id": "7g-48CcO7uUv",
        "outputId": "1a87afc0-90b8-4e00-f9af-b0fff9f00bb2"
      },
      "execution_count": 7,
      "outputs": [
        {
          "output_type": "stream",
          "name": "stdout",
          "text": [
            "train_df, val_df created\n",
            "test_df created\n"
          ]
        }
      ]
    },
    {
      "cell_type": "code",
      "execution_count": 8,
      "metadata": {
        "id": "FNLZ_OfJqV3v"
      },
      "outputs": [],
      "source": [
        "# @title\n",
        "#Create adjecency matrix\n",
        "train_A = A_matrix(train_df)\n",
        "val_A = A_matrix(val_df)\n",
        "test_A = A_matrix(test_df)\n",
        "# # Visualize the adjacency matrix\n",
        "# plt.imshow(train_A, cmap='Greys', origin='upper')\n",
        "# plt.title('Adjacency Matrix')\n",
        "# plt.show()\n",
        "\n",
        "# # Create a graph using NetworkX for visualization (optional)\n",
        "# G = nx.DiGraph(train_A)\n",
        "\n",
        "# # Visualize the graph\n",
        "# pos = nx.spring_layout(G)  # Choose a layout algorithm\n",
        "# nx.draw(G, pos, with_labels=True, node_size=700, node_color='skyblue')\n",
        "# plt.title('Graph Representation')\n",
        "# plt.show()"
      ]
    },
    {
      "cell_type": "code",
      "source": [
        "# @title\n",
        "#Create Pytorch geometric Data obj\n",
        "result = create_dataset_objs(train_df, val_df, test_df, train_A, val_A, test_A, columns_2018)\n",
        "# Check the result and use it accordingly\n",
        "if result is not None:\n",
        "    if len(result) == 2:\n",
        "        train_data, test_data = result\n",
        "        print(\"Train and validation to Test Data are available.\")\n",
        "        # Process train_data and test_data accordingly\n",
        "    elif len(result) == 3:\n",
        "        train_data, val_data, test_data = result\n",
        "        print(\"Train, Validation, and Test Data are available.\")\n",
        "        # Process train_data, val_data, and test_data accordingly\n",
        "    else:\n",
        "        print(\"No Data available.\")"
      ],
      "metadata": {
        "colab": {
          "base_uri": "https://localhost:8080/"
        },
        "id": "Y__bHiDVRgfM",
        "outputId": "6660692c-991d-4d95-9149-68b0fb541637"
      },
      "execution_count": 9,
      "outputs": [
        {
          "output_type": "stream",
          "name": "stdout",
          "text": [
            "test_data is empty, using val_data as test_data\n",
            "Train and validation to Test Data are available.\n"
          ]
        }
      ]
    },
    {
      "cell_type": "code",
      "source": [
        "# @title\n",
        "#train\n",
        "!pwd\n",
        "num_of_feat, epochs = get_epochs_and_in_feat(train_data)\n",
        "net=simpleGNN(num_of_feat=num_of_feat,f=16)\n",
        "train(net,train_data, test_data,epochs)"
      ],
      "metadata": {
        "id": "NumFw2G0QVEv",
        "colab": {
          "base_uri": "https://localhost:8080/",
          "height": 1000
        },
        "outputId": "21a829d8-53e5-475f-c97b-a5e7e06054cd"
      },
      "execution_count": 10,
      "outputs": [
        {
          "output_type": "stream",
          "name": "stdout",
          "text": [
            "/content/Ohio Data/Ohio2020_processed/train\n",
            "Epoch 1/25, Train_Loss: -0.0000, Train_Accuracy: 0.0000, Test_Accuracy: 0.0000\n",
            "Epoch 2/25, Train_Loss: -0.0000, Train_Accuracy: 0.0000, Test_Accuracy: 0.0000\n",
            "Epoch 3/25, Train_Loss: -0.0000, Train_Accuracy: 0.0000, Test_Accuracy: 0.0000\n",
            "Epoch 4/25, Train_Loss: -0.0000, Train_Accuracy: 0.0000, Test_Accuracy: 0.0000\n",
            "Epoch 5/25, Train_Loss: -0.0000, Train_Accuracy: 0.0000, Test_Accuracy: 0.0000\n",
            "Epoch 6/25, Train_Loss: -0.0000, Train_Accuracy: 0.0000, Test_Accuracy: 0.0000\n",
            "Epoch 7/25, Train_Loss: -0.0000, Train_Accuracy: 0.0000, Test_Accuracy: 0.0000\n",
            "Epoch 8/25, Train_Loss: -0.0000, Train_Accuracy: 0.0000, Test_Accuracy: 0.0000\n",
            "Epoch 9/25, Train_Loss: -0.0000, Train_Accuracy: 0.0000, Test_Accuracy: 0.0000\n",
            "Epoch 10/25, Train_Loss: -0.0000, Train_Accuracy: 0.0000, Test_Accuracy: 0.0000\n",
            "Epoch 11/25, Train_Loss: -0.0000, Train_Accuracy: 0.0000, Test_Accuracy: 0.0000\n",
            "Epoch 12/25, Train_Loss: -0.0000, Train_Accuracy: 0.0000, Test_Accuracy: 0.0000\n",
            "Epoch 13/25, Train_Loss: -0.0000, Train_Accuracy: 0.0000, Test_Accuracy: 0.0000\n",
            "Epoch 14/25, Train_Loss: -0.0000, Train_Accuracy: 0.0000, Test_Accuracy: 0.0000\n",
            "Epoch 15/25, Train_Loss: -0.0000, Train_Accuracy: 0.0000, Test_Accuracy: 0.0000\n",
            "Epoch 16/25, Train_Loss: -0.0000, Train_Accuracy: 0.0000, Test_Accuracy: 0.0000\n",
            "Epoch 17/25, Train_Loss: -0.0000, Train_Accuracy: 0.0000, Test_Accuracy: 0.0000\n",
            "Epoch 18/25, Train_Loss: -0.0000, Train_Accuracy: 0.0000, Test_Accuracy: 0.0000\n",
            "Epoch 19/25, Train_Loss: -0.0000, Train_Accuracy: 0.0000, Test_Accuracy: 0.0000\n",
            "Epoch 20/25, Train_Loss: -0.0000, Train_Accuracy: 0.0000, Test_Accuracy: 0.0000\n",
            "Epoch 21/25, Train_Loss: -0.0000, Train_Accuracy: 0.0000, Test_Accuracy: 0.0000\n",
            "Epoch 22/25, Train_Loss: -0.0000, Train_Accuracy: 0.0000, Test_Accuracy: 0.0000\n",
            "Epoch 23/25, Train_Loss: -0.0000, Train_Accuracy: 0.0000, Test_Accuracy: 0.0000\n",
            "Epoch 24/25, Train_Loss: -0.0000, Train_Accuracy: 0.0000, Test_Accuracy: 0.0000\n",
            "Epoch 25/25, Train_Loss: -0.0000, Train_Accuracy: 0.0000, Test_Accuracy: 0.0000\n",
            "Epoch 26/25, Train_Loss: -0.0000, Train_Accuracy: 0.0000, Test_Accuracy: 0.0000\n"
          ]
        },
        {
          "output_type": "display_data",
          "data": {
            "text/plain": [
              "<Figure size 640x480 with 1 Axes>"
            ],
            "image/png": "[encoded data removed]"
          },
          "metadata": {}
        },
        {
          "output_type": "display_data",
          "data": {
            "text/plain": [
              "<Figure size 640x480 with 1 Axes>"
            ],
            "image/png": "[encoded data removed]"
          },
          "metadata": {}
        },
        {
          "name": "stdout",
          "output_type": "stream",
          "text": [
            "Enter patient number: 559\n"
          ]
        }
      ]
    },
    {
      "cell_type": "markdown",
      "source": [
        "#Patient 563"
      ],
      "metadata": {
        "id": "3GRKeQn8-eYP"
      }
    },
    {
      "cell_type": "code",
      "source": [
        "#creating dataframes\n",
        "file_path = '/content/Ohio Data/Ohio2018_processed/train/563-ws-training_processed.csv'\n",
        "dataframe = get_pandas_df(file_path)\n",
        "\n",
        "if dataframe is not None:\n",
        "  if len(dataframe) == 2:\n",
        "      train_df, val_df = dataframe\n",
        "      print('train_df, val_df created')\n",
        "  else:\n",
        "      test_df = dataframe\n",
        "      print('test_df created')\n",
        "file_path = '/content/Ohio Data/Ohio2018_processed/test/563-ws-testing_processed.csv'\n",
        "dataframe = get_pandas_df(file_path)\n",
        "if dataframe is not None:\n",
        "  if len(dataframe) == 2:\n",
        "      train_df, val_df = dataframe\n",
        "      print('train_df, val_df created')\n",
        "  else:\n",
        "      test_df = dataframe\n",
        "      print('test_df created')\n",
        "#Creating adjecency matrices\n",
        "train_A = A_matrix(train_df)\n",
        "val_A = A_matrix(val_df)\n",
        "test_A = A_matrix(test_df)\n",
        "#Create Pytorch geometric Data obj\n",
        "result = create_dataset_objs(train_df, val_df, test_df, train_A, val_A, test_A, columns_2018)\n",
        "# Check the result and use it accordingly\n",
        "if result is not None:\n",
        "    if len(result) == 2:\n",
        "        train_data, test_data = result\n",
        "        print(\"Train and validation to Test Data are available.\")\n",
        "        # Process train_data and test_data accordingly\n",
        "    elif len(result) == 3:\n",
        "        train_data, val_data, test_data = result\n",
        "        print(\"Train, Validation, and Test Data are available.\")\n",
        "        # Process train_data, val_data, and test_data accordingly\n",
        "    else:\n",
        "        print(\"No Data available.\")\n",
        "#train (number of fetures and epochs function already defined)\n",
        "!pwd\n",
        "num_of_feat, epochs = get_epochs_and_in_feat(train_data)\n",
        "net=simpleGNN(num_of_feat=num_of_feat,f=16)\n",
        "train(net,train_data, test_data,epochs)"
      ],
      "metadata": {
        "colab": {
          "base_uri": "https://localhost:8080/",
          "height": 1000
        },
        "id": "QZq-k6uL-uJz",
        "outputId": "35657ef5-c958-4739-aa49-f2a0ed4cf5f4"
      },
      "execution_count": 11,
      "outputs": [
        {
          "output_type": "stream",
          "name": "stdout",
          "text": [
            "train_df, val_df created\n",
            "test_df created\n",
            "Train, Validation, and Test Data are available.\n",
            "/content/Ohio Data/Ohio2020_processed/train\n",
            "Epoch 1/25, Train_Loss: -0.0000, Train_Accuracy: 0.0000, Test_Accuracy: 0.0000\n",
            "Epoch 2/25, Train_Loss: -0.0000, Train_Accuracy: 0.0000, Test_Accuracy: 0.0000\n",
            "Epoch 3/25, Train_Loss: -0.0000, Train_Accuracy: 0.0000, Test_Accuracy: 0.0000\n",
            "Epoch 4/25, Train_Loss: -0.0000, Train_Accuracy: 0.0000, Test_Accuracy: 0.0000\n",
            "Epoch 5/25, Train_Loss: -0.0000, Train_Accuracy: 0.0000, Test_Accuracy: 0.0000\n",
            "Epoch 6/25, Train_Loss: -0.0000, Train_Accuracy: 0.0000, Test_Accuracy: 0.0000\n",
            "Epoch 7/25, Train_Loss: -0.0000, Train_Accuracy: 0.0000, Test_Accuracy: 0.0000\n",
            "Epoch 8/25, Train_Loss: -0.0000, Train_Accuracy: 0.0000, Test_Accuracy: 0.0000\n",
            "Epoch 9/25, Train_Loss: -0.0000, Train_Accuracy: 0.0000, Test_Accuracy: 0.0000\n",
            "Epoch 10/25, Train_Loss: -0.0000, Train_Accuracy: 0.0000, Test_Accuracy: 0.0000\n",
            "Epoch 11/25, Train_Loss: -0.0000, Train_Accuracy: 0.0000, Test_Accuracy: 0.0000\n",
            "Epoch 12/25, Train_Loss: -0.0000, Train_Accuracy: 0.0000, Test_Accuracy: 0.0000\n",
            "Epoch 13/25, Train_Loss: -0.0000, Train_Accuracy: 0.0000, Test_Accuracy: 0.0000\n",
            "Epoch 14/25, Train_Loss: -0.0000, Train_Accuracy: 0.0000, Test_Accuracy: 0.0000\n",
            "Epoch 15/25, Train_Loss: -0.0000, Train_Accuracy: 0.0000, Test_Accuracy: 0.0000\n",
            "Epoch 16/25, Train_Loss: -0.0000, Train_Accuracy: 0.0000, Test_Accuracy: 0.0000\n",
            "Epoch 17/25, Train_Loss: -0.0000, Train_Accuracy: 0.0000, Test_Accuracy: 0.0000\n",
            "Epoch 18/25, Train_Loss: -0.0000, Train_Accuracy: 0.0000, Test_Accuracy: 0.0000\n",
            "Epoch 19/25, Train_Loss: -0.0000, Train_Accuracy: 0.0000, Test_Accuracy: 0.0000\n",
            "Epoch 20/25, Train_Loss: -0.0000, Train_Accuracy: 0.0000, Test_Accuracy: 0.0000\n",
            "Epoch 21/25, Train_Loss: -0.0000, Train_Accuracy: 0.0000, Test_Accuracy: 0.0000\n",
            "Epoch 22/25, Train_Loss: -0.0000, Train_Accuracy: 0.0000, Test_Accuracy: 0.0000\n",
            "Epoch 23/25, Train_Loss: -0.0000, Train_Accuracy: 0.0000, Test_Accuracy: 0.0000\n",
            "Epoch 24/25, Train_Loss: -0.0000, Train_Accuracy: 0.0000, Test_Accuracy: 0.0000\n",
            "Epoch 25/25, Train_Loss: -0.0000, Train_Accuracy: 0.0000, Test_Accuracy: 0.0000\n",
            "Epoch 26/25, Train_Loss: -0.0000, Train_Accuracy: 0.0000, Test_Accuracy: 0.0000\n"
          ]
        },
        {
          "output_type": "display_data",
          "data": {
            "text/plain": [
              "<Figure size 640x480 with 1 Axes>"
            ],
            "image/png": "[encoded data removed]"
          },
          "metadata": {}
        },
        {
          "output_type": "display_data",
          "data": {
            "text/plain": [
              "<Figure size 640x480 with 1 Axes>"
            ],
            "image/png": "[encoded data removed]"
          },
          "metadata": {}
        },
        {
          "name": "stdout",
          "output_type": "stream",
          "text": [
            "Enter patient number: 563\n"
          ]
        }
      ]
    },
    {
      "cell_type": "markdown",
      "source": [
        "# **Patient 570**"
      ],
      "metadata": {
        "id": "WVVmDq4tGd2_"
      }
    },
    {
      "cell_type": "code",
      "source": [
        "#creating dataframes\n",
        "file_path = '/content/Ohio Data/Ohio2018_processed/train/570-ws-training_processed.csv'\n",
        "dataframe = get_pandas_df(file_path)\n",
        "\n",
        "if dataframe is not None:\n",
        "  if len(dataframe) == 2:\n",
        "      train_df, val_df = dataframe\n",
        "      print('train_df, val_df created')\n",
        "  else:\n",
        "      test_df = dataframe\n",
        "      print('test_df created')\n",
        "file_path = '/content/Ohio Data/Ohio2018_processed/test/570-ws-testing_processed.csv'\n",
        "dataframe = get_pandas_df(file_path)\n",
        "if dataframe is not None:\n",
        "  if len(dataframe) == 2:\n",
        "      train_df, val_df = dataframe\n",
        "      print('train_df, val_df created')\n",
        "  else:\n",
        "      test_df = dataframe\n",
        "      print('test_df created')\n",
        "#Creating adjecency matrices\n",
        "train_A = A_matrix(train_df)\n",
        "val_A = A_matrix(val_df)\n",
        "test_A = A_matrix(test_df)\n",
        "#Create Pytorch geometric Data obj\n",
        "result = create_dataset_objs(train_df, val_df, test_df, train_A, val_A, test_A, columns_2018)\n",
        "# Check the result and use it accordingly\n",
        "if result is not None:\n",
        "    if len(result) == 2:\n",
        "        train_data, test_data = result\n",
        "        print(\"Train and validation to Test Data are available.\")\n",
        "        # Process train_data and test_data accordingly\n",
        "    elif len(result) == 3:\n",
        "        train_data, val_data, test_data = result\n",
        "        print(\"Train, Validation, and Test Data are available.\")\n",
        "        # Process train_data, val_data, and test_data accordingly\n",
        "    else:\n",
        "        print(\"No Data available.\")\n",
        "#train (number of fetures and epochs function already defined)\n",
        "!pwd\n",
        "num_of_feat, epochs = get_epochs_and_in_feat(train_data)\n",
        "net=simpleGNN(num_of_feat=num_of_feat,f=16)\n",
        "train(net,train_data, test_data,epochs)"
      ],
      "metadata": {
        "colab": {
          "base_uri": "https://localhost:8080/",
          "height": 1000
        },
        "outputId": "e147f82a-71bb-4fdd-fe9c-65928301f7e4",
        "id": "yCXp7CbnGlPC"
      },
      "execution_count": 12,
      "outputs": [
        {
          "output_type": "stream",
          "name": "stdout",
          "text": [
            "train_df, val_df created\n",
            "test_df created\n",
            "Train, Validation, and Test Data are available.\n",
            "/content/Ohio Data/Ohio2020_processed/train\n",
            "Epoch 1/25, Train_Loss: -0.0000, Train_Accuracy: 0.0000, Test_Accuracy: 0.0000\n",
            "Epoch 2/25, Train_Loss: -0.0000, Train_Accuracy: 0.0000, Test_Accuracy: 0.0000\n",
            "Epoch 3/25, Train_Loss: -0.0000, Train_Accuracy: 0.0000, Test_Accuracy: 0.0000\n",
            "Epoch 4/25, Train_Loss: -0.0000, Train_Accuracy: 0.0000, Test_Accuracy: 0.0000\n",
            "Epoch 5/25, Train_Loss: -0.0000, Train_Accuracy: 0.0000, Test_Accuracy: 0.0000\n",
            "Epoch 6/25, Train_Loss: -0.0000, Train_Accuracy: 0.0000, Test_Accuracy: 0.0000\n",
            "Epoch 7/25, Train_Loss: -0.0000, Train_Accuracy: 0.0000, Test_Accuracy: 0.0000\n",
            "Epoch 8/25, Train_Loss: -0.0000, Train_Accuracy: 0.0000, Test_Accuracy: 0.0000\n",
            "Epoch 9/25, Train_Loss: -0.0000, Train_Accuracy: 0.0000, Test_Accuracy: 0.0000\n",
            "Epoch 10/25, Train_Loss: -0.0000, Train_Accuracy: 0.0000, Test_Accuracy: 0.0000\n",
            "Epoch 11/25, Train_Loss: -0.0000, Train_Accuracy: 0.0000, Test_Accuracy: 0.0000\n",
            "Epoch 12/25, Train_Loss: -0.0000, Train_Accuracy: 0.0000, Test_Accuracy: 0.0000\n",
            "Epoch 13/25, Train_Loss: -0.0000, Train_Accuracy: 0.0000, Test_Accuracy: 0.0000\n",
            "Epoch 14/25, Train_Loss: -0.0000, Train_Accuracy: 0.0000, Test_Accuracy: 0.0000\n",
            "Epoch 15/25, Train_Loss: -0.0000, Train_Accuracy: 0.0000, Test_Accuracy: 0.0000\n",
            "Epoch 16/25, Train_Loss: -0.0000, Train_Accuracy: 0.0000, Test_Accuracy: 0.0000\n",
            "Epoch 17/25, Train_Loss: -0.0000, Train_Accuracy: 0.0000, Test_Accuracy: 0.0000\n",
            "Epoch 18/25, Train_Loss: -0.0000, Train_Accuracy: 0.0000, Test_Accuracy: 0.0000\n",
            "Epoch 19/25, Train_Loss: -0.0000, Train_Accuracy: 0.0000, Test_Accuracy: 0.0000\n",
            "Epoch 20/25, Train_Loss: -0.0000, Train_Accuracy: 0.0000, Test_Accuracy: 0.0000\n",
            "Epoch 21/25, Train_Loss: -0.0000, Train_Accuracy: 0.0000, Test_Accuracy: 0.0000\n",
            "Epoch 22/25, Train_Loss: -0.0000, Train_Accuracy: 0.0000, Test_Accuracy: 0.0000\n",
            "Epoch 23/25, Train_Loss: -0.0000, Train_Accuracy: 0.0000, Test_Accuracy: 0.0000\n",
            "Epoch 24/25, Train_Loss: -0.0000, Train_Accuracy: 0.0000, Test_Accuracy: 0.0000\n",
            "Epoch 25/25, Train_Loss: -0.0000, Train_Accuracy: 0.0000, Test_Accuracy: 0.0000\n",
            "Epoch 26/25, Train_Loss: -0.0000, Train_Accuracy: 0.0000, Test_Accuracy: 0.0000\n"
          ]
        },
        {
          "output_type": "display_data",
          "data": {
            "text/plain": [
              "<Figure size 640x480 with 1 Axes>"
            ],
            "image/png": "[encoded data removed]"
          },
          "metadata": {}
        },
        {
          "output_type": "display_data",
          "data": {
            "text/plain": [
              "<Figure size 640x480 with 1 Axes>"
            ],
            "image/png": "[encoded data removed]"
          },
          "metadata": {}
        },
        {
          "name": "stdout",
          "output_type": "stream",
          "text": [
            "Enter patient number: 570\n"
          ]
        }
      ]
    },
    {
      "cell_type": "markdown",
      "source": [
        "#Patient 575"
      ],
      "metadata": {
        "id": "642VdW6AHTsY"
      }
    },
    {
      "cell_type": "code",
      "source": [
        "#creating dataframes\n",
        "file_path = '/content/Ohio Data/Ohio2018_processed/train/575-ws-training_processed.csv'\n",
        "dataframe = get_pandas_df(file_path)\n",
        "\n",
        "if dataframe is not None:\n",
        "  if len(dataframe) == 2:\n",
        "      train_df, val_df = dataframe\n",
        "      print('train_df, val_df created')\n",
        "  else:\n",
        "      test_df = dataframe\n",
        "      print('test_df created')\n",
        "file_path = '/content/Ohio Data/Ohio2018_processed/test/575-ws-testing_processed.csv'\n",
        "dataframe = get_pandas_df(file_path)\n",
        "if dataframe is not None:\n",
        "  if len(dataframe) == 2:\n",
        "      train_df, val_df = dataframe\n",
        "      print('train_df, val_df created')\n",
        "  else:\n",
        "      test_df = dataframe\n",
        "      print('test_df created')\n",
        "#Creating adjecency matrices\n",
        "train_A = A_matrix(train_df)\n",
        "val_A = A_matrix(val_df)\n",
        "test_A = A_matrix(test_df)\n",
        "#Create Pytorch geometric Data obj\n",
        "result = create_dataset_objs(train_df, val_df, test_df, train_A, val_A, test_A, columns_2018)\n",
        "# Check the result and use it accordingly\n",
        "if result is not None:\n",
        "    if len(result) == 2:\n",
        "        train_data, test_data = result\n",
        "        print(\"Train and validation to Test Data are available.\")\n",
        "        # Process train_data and test_data accordingly\n",
        "    elif len(result) == 3:\n",
        "        train_data, val_data, test_data = result\n",
        "        print(\"Train, Validation, and Test Data are available.\")\n",
        "        # Process train_data, val_data, and test_data accordingly\n",
        "    else:\n",
        "        print(\"No Data available.\")\n",
        "#train (number of fetures and epochs function already defined)\n",
        "!pwd\n",
        "num_of_feat, epochs = get_epochs_and_in_feat(train_data)\n",
        "net=simpleGNN(num_of_feat=num_of_feat,f=16)\n",
        "train(net,train_data, test_data,epochs)"
      ],
      "metadata": {
        "colab": {
          "base_uri": "https://localhost:8080/",
          "height": 1000
        },
        "outputId": "44c7a188-2e65-4b2b-99ba-821704231a9b",
        "id": "BSZ7P2q2HkK8"
      },
      "execution_count": 13,
      "outputs": [
        {
          "output_type": "stream",
          "name": "stdout",
          "text": [
            "train_df, val_df created\n",
            "test_df created\n",
            "Train, Validation, and Test Data are available.\n",
            "/content/Ohio Data/Ohio2020_processed/train\n",
            "Epoch 1/25, Train_Loss: -0.0000, Train_Accuracy: 0.0000, Test_Accuracy: 0.0000\n",
            "Epoch 2/25, Train_Loss: -0.0000, Train_Accuracy: 0.0000, Test_Accuracy: 0.0000\n",
            "Epoch 3/25, Train_Loss: -0.0000, Train_Accuracy: 0.0000, Test_Accuracy: 0.0000\n",
            "Epoch 4/25, Train_Loss: -0.0000, Train_Accuracy: 0.0000, Test_Accuracy: 0.0000\n",
            "Epoch 5/25, Train_Loss: -0.0000, Train_Accuracy: 0.0000, Test_Accuracy: 0.0000\n",
            "Epoch 6/25, Train_Loss: -0.0000, Train_Accuracy: 0.0000, Test_Accuracy: 0.0000\n",
            "Epoch 7/25, Train_Loss: -0.0000, Train_Accuracy: 0.0000, Test_Accuracy: 0.0000\n",
            "Epoch 8/25, Train_Loss: -0.0000, Train_Accuracy: 0.0000, Test_Accuracy: 0.0000\n",
            "Epoch 9/25, Train_Loss: -0.0000, Train_Accuracy: 0.0000, Test_Accuracy: 0.0000\n",
            "Epoch 10/25, Train_Loss: -0.0000, Train_Accuracy: 0.0000, Test_Accuracy: 0.0000\n",
            "Epoch 11/25, Train_Loss: -0.0000, Train_Accuracy: 0.0000, Test_Accuracy: 0.0000\n",
            "Epoch 12/25, Train_Loss: -0.0000, Train_Accuracy: 0.0000, Test_Accuracy: 0.0000\n",
            "Epoch 13/25, Train_Loss: -0.0000, Train_Accuracy: 0.0000, Test_Accuracy: 0.0000\n",
            "Epoch 14/25, Train_Loss: -0.0000, Train_Accuracy: 0.0000, Test_Accuracy: 0.0000\n",
            "Epoch 15/25, Train_Loss: -0.0000, Train_Accuracy: 0.0000, Test_Accuracy: 0.0000\n",
            "Epoch 16/25, Train_Loss: -0.0000, Train_Accuracy: 0.0000, Test_Accuracy: 0.0000\n",
            "Epoch 17/25, Train_Loss: -0.0000, Train_Accuracy: 0.0000, Test_Accuracy: 0.0000\n",
            "Epoch 18/25, Train_Loss: -0.0000, Train_Accuracy: 0.0000, Test_Accuracy: 0.0000\n",
            "Epoch 19/25, Train_Loss: -0.0000, Train_Accuracy: 0.0000, Test_Accuracy: 0.0000\n",
            "Epoch 20/25, Train_Loss: -0.0000, Train_Accuracy: 0.0000, Test_Accuracy: 0.0000\n",
            "Epoch 21/25, Train_Loss: -0.0000, Train_Accuracy: 0.0000, Test_Accuracy: 0.0000\n",
            "Epoch 22/25, Train_Loss: -0.0000, Train_Accuracy: 0.0000, Test_Accuracy: 0.0000\n",
            "Epoch 23/25, Train_Loss: -0.0000, Train_Accuracy: 0.0000, Test_Accuracy: 0.0000\n",
            "Epoch 24/25, Train_Loss: -0.0000, Train_Accuracy: 0.0000, Test_Accuracy: 0.0000\n",
            "Epoch 25/25, Train_Loss: -0.0000, Train_Accuracy: 0.0000, Test_Accuracy: 0.0000\n",
            "Epoch 26/25, Train_Loss: -0.0000, Train_Accuracy: 0.0000, Test_Accuracy: 0.0000\n"
          ]
        },
        {
          "output_type": "display_data",
          "data": {
            "text/plain": [
              "<Figure size 640x480 with 1 Axes>"
            ],
            "image/png": "[encoded data removed]"
          },
          "metadata": {}
        },
        {
          "output_type": "display_data",
          "data": {
            "text/plain": [
              "<Figure size 640x480 with 1 Axes>"
            ],
            "image/png": "[encoded data removed]"
          },
          "metadata": {}
        },
        {
          "name": "stdout",
          "output_type": "stream",
          "text": [
            "Enter patient number: 575\n"
          ]
        }
      ]
    },
    {
      "cell_type": "markdown",
      "source": [
        "#Patient 588"
      ],
      "metadata": {
        "id": "8bWx0X3rIHAQ"
      }
    },
    {
      "cell_type": "code",
      "source": [
        "#creating dataframes\n",
        "file_path = '/content/Ohio Data/Ohio2018_processed/train/588-ws-training_processed.csv'\n",
        "dataframe = get_pandas_df(file_path)\n",
        "\n",
        "if dataframe is not None:\n",
        "  if len(dataframe) == 2:\n",
        "      train_df, val_df = dataframe\n",
        "      print('train_df, val_df created')\n",
        "  else:\n",
        "      test_df = dataframe\n",
        "      print('test_df created')\n",
        "file_path = '/content/Ohio Data/Ohio2018_processed/test/588-ws-testing_processed.csv'\n",
        "dataframe = get_pandas_df(file_path)\n",
        "if dataframe is not None:\n",
        "  if len(dataframe) == 2:\n",
        "      train_df, val_df = dataframe\n",
        "      print('train_df, val_df created')\n",
        "  else:\n",
        "      test_df = dataframe\n",
        "      print('test_df created')\n",
        "#Creating adjecency matrices\n",
        "train_A = A_matrix(train_df)\n",
        "val_A = A_matrix(val_df)\n",
        "test_A = A_matrix(test_df)\n",
        "#Create Pytorch geometric Data obj\n",
        "result = create_dataset_objs(train_df, val_df, test_df, train_A, val_A, test_A, columns_2018)\n",
        "# Check the result and use it accordingly\n",
        "if result is not None:\n",
        "    if len(result) == 2:\n",
        "        train_data, test_data = result\n",
        "        print(\"Train and validation to Test Data are available.\")\n",
        "        # Process train_data and test_data accordingly\n",
        "    elif len(result) == 3:\n",
        "        train_data, val_data, test_data = result\n",
        "        print(\"Train, Validation, and Test Data are available.\")\n",
        "        # Process train_data, val_data, and test_data accordingly\n",
        "    else:\n",
        "        print(\"No Data available.\")\n",
        "#train (number of fetures and epochs function already defined)\n",
        "!pwd\n",
        "num_of_feat, epochs = get_epochs_and_in_feat(train_data)\n",
        "net=simpleGNN(num_of_feat=num_of_feat,f=16)\n",
        "train(net,train_data, test_data,epochs)"
      ],
      "metadata": {
        "colab": {
          "base_uri": "https://localhost:8080/",
          "height": 1000
        },
        "outputId": "b9d75df8-c205-48b9-bea4-a71c4c8bbfca",
        "id": "JhEf8P2EII7P"
      },
      "execution_count": 14,
      "outputs": [
        {
          "output_type": "stream",
          "name": "stdout",
          "text": [
            "train_df, val_df created\n",
            "test_df created\n",
            "Train, Validation, and Test Data are available.\n",
            "/content/Ohio Data/Ohio2020_processed/train\n",
            "Epoch 1/25, Train_Loss: -0.0000, Train_Accuracy: 0.0000, Test_Accuracy: 0.0000\n",
            "Epoch 2/25, Train_Loss: -0.0000, Train_Accuracy: 0.0000, Test_Accuracy: 0.0000\n",
            "Epoch 3/25, Train_Loss: -0.0000, Train_Accuracy: 0.0000, Test_Accuracy: 0.0000\n",
            "Epoch 4/25, Train_Loss: -0.0000, Train_Accuracy: 0.0000, Test_Accuracy: 0.0000\n",
            "Epoch 5/25, Train_Loss: -0.0000, Train_Accuracy: 0.0000, Test_Accuracy: 0.0000\n",
            "Epoch 6/25, Train_Loss: -0.0000, Train_Accuracy: 0.0000, Test_Accuracy: 0.0000\n",
            "Epoch 7/25, Train_Loss: -0.0000, Train_Accuracy: 0.0000, Test_Accuracy: 0.0000\n",
            "Epoch 8/25, Train_Loss: -0.0000, Train_Accuracy: 0.0000, Test_Accuracy: 0.0000\n",
            "Epoch 9/25, Train_Loss: -0.0000, Train_Accuracy: 0.0000, Test_Accuracy: 0.0000\n",
            "Epoch 10/25, Train_Loss: -0.0000, Train_Accuracy: 0.0000, Test_Accuracy: 0.0000\n",
            "Epoch 11/25, Train_Loss: -0.0000, Train_Accuracy: 0.0000, Test_Accuracy: 0.0000\n",
            "Epoch 12/25, Train_Loss: -0.0000, Train_Accuracy: 0.0000, Test_Accuracy: 0.0000\n",
            "Epoch 13/25, Train_Loss: -0.0000, Train_Accuracy: 0.0000, Test_Accuracy: 0.0000\n",
            "Epoch 14/25, Train_Loss: -0.0000, Train_Accuracy: 0.0000, Test_Accuracy: 0.0000\n",
            "Epoch 15/25, Train_Loss: -0.0000, Train_Accuracy: 0.0000, Test_Accuracy: 0.0000\n",
            "Epoch 16/25, Train_Loss: -0.0000, Train_Accuracy: 0.0000, Test_Accuracy: 0.0000\n",
            "Epoch 17/25, Train_Loss: -0.0000, Train_Accuracy: 0.0000, Test_Accuracy: 0.0000\n",
            "Epoch 18/25, Train_Loss: -0.0000, Train_Accuracy: 0.0000, Test_Accuracy: 0.0000\n",
            "Epoch 19/25, Train_Loss: -0.0000, Train_Accuracy: 0.0000, Test_Accuracy: 0.0000\n",
            "Epoch 20/25, Train_Loss: -0.0000, Train_Accuracy: 0.0000, Test_Accuracy: 0.0000\n",
            "Epoch 21/25, Train_Loss: -0.0000, Train_Accuracy: 0.0000, Test_Accuracy: 0.0000\n",
            "Epoch 22/25, Train_Loss: -0.0000, Train_Accuracy: 0.0000, Test_Accuracy: 0.0000\n",
            "Epoch 23/25, Train_Loss: -0.0000, Train_Accuracy: 0.0000, Test_Accuracy: 0.0000\n",
            "Epoch 24/25, Train_Loss: -0.0000, Train_Accuracy: 0.0000, Test_Accuracy: 0.0000\n",
            "Epoch 25/25, Train_Loss: -0.0000, Train_Accuracy: 0.0000, Test_Accuracy: 0.0000\n",
            "Epoch 26/25, Train_Loss: -0.0000, Train_Accuracy: 0.0000, Test_Accuracy: 0.0000\n"
          ]
        },
        {
          "output_type": "display_data",
          "data": {
            "text/plain": [
              "<Figure size 640x480 with 1 Axes>"
            ],
            "image/png": "[encoded data removed]"
          },
          "metadata": {}
        },
        {
          "output_type": "display_data",
          "data": {
            "text/plain": [
              "<Figure size 640x480 with 1 Axes>"
            ],
            "image/png": "[encoded data removed]"
          },
          "metadata": {}
        },
        {
          "name": "stdout",
          "output_type": "stream",
          "text": [
            "Enter patient number: 588\n"
          ]
        }
      ]
    },
    {
      "cell_type": "markdown",
      "source": [
        "#Patient 591"
      ],
      "metadata": {
        "id": "Yci1z07cIiFJ"
      }
    },
    {
      "cell_type": "code",
      "source": [
        "#creating dataframes\n",
        "file_path = '/content/Ohio Data/Ohio2018_processed/train/591-ws-training_processed.csv'\n",
        "dataframe = get_pandas_df(file_path)\n",
        "\n",
        "if dataframe is not None:\n",
        "  if len(dataframe) == 2:\n",
        "      train_df, val_df = dataframe\n",
        "      print('train_df, val_df created')\n",
        "  else:\n",
        "      test_df = dataframe\n",
        "      print('test_df created')\n",
        "file_path = '/content/Ohio Data/Ohio2018_processed/test/591-ws-testing_processed.csv'\n",
        "dataframe = get_pandas_df(file_path)\n",
        "if dataframe is not None:\n",
        "  if len(dataframe) == 2:\n",
        "      train_df, val_df = dataframe\n",
        "      print('train_df, val_df created')\n",
        "  else:\n",
        "      test_df = dataframe\n",
        "      print('test_df created')\n",
        "#Creating adjecency matrices\n",
        "train_A = A_matrix(train_df)\n",
        "val_A = A_matrix(val_df)\n",
        "test_A = A_matrix(test_df)\n",
        "#Create Pytorch geometric Data obj\n",
        "result = create_dataset_objs(train_df, val_df, test_df, train_A, val_A, test_A, columns_2018)\n",
        "# Check the result and use it accordingly\n",
        "if result is not None:\n",
        "    if len(result) == 2:\n",
        "        train_data, test_data = result\n",
        "        print(\"Train and validation to Test Data are available.\")\n",
        "        # Process train_data and test_data accordingly\n",
        "    elif len(result) == 3:\n",
        "        train_data, val_data, test_data = result\n",
        "        print(\"Train, Validation, and Test Data are available.\")\n",
        "        # Process train_data, val_data, and test_data accordingly\n",
        "    else:\n",
        "        print(\"No Data available.\")\n",
        "#train (number of fetures and epochs function already defined)\n",
        "!pwd\n",
        "num_of_feat, epochs = get_epochs_and_in_feat(train_data)\n",
        "net=simpleGNN(num_of_feat=num_of_feat,f=16)\n",
        "train(net,train_data, test_data,epochs)"
      ],
      "metadata": {
        "colab": {
          "base_uri": "https://localhost:8080/",
          "height": 1000
        },
        "outputId": "e77a7fd8-0a51-41e9-c498-ceb49bd5df4b",
        "id": "q3wVBM46IiFJ"
      },
      "execution_count": 15,
      "outputs": [
        {
          "output_type": "stream",
          "name": "stdout",
          "text": [
            "train_df, val_df created\n",
            "test_df created\n",
            "Train, Validation, and Test Data are available.\n",
            "/content/Ohio Data/Ohio2020_processed/train\n",
            "Epoch 1/25, Train_Loss: -0.0000, Train_Accuracy: 0.0000, Test_Accuracy: 0.0000\n",
            "Epoch 2/25, Train_Loss: -0.0000, Train_Accuracy: 0.0000, Test_Accuracy: 0.0000\n",
            "Epoch 3/25, Train_Loss: -0.0000, Train_Accuracy: 0.0000, Test_Accuracy: 0.0000\n",
            "Epoch 4/25, Train_Loss: -0.0000, Train_Accuracy: 0.0000, Test_Accuracy: 0.0000\n",
            "Epoch 5/25, Train_Loss: -0.0000, Train_Accuracy: 0.0000, Test_Accuracy: 0.0000\n",
            "Epoch 6/25, Train_Loss: -0.0000, Train_Accuracy: 0.0000, Test_Accuracy: 0.0000\n",
            "Epoch 7/25, Train_Loss: -0.0000, Train_Accuracy: 0.0000, Test_Accuracy: 0.0000\n",
            "Epoch 8/25, Train_Loss: -0.0000, Train_Accuracy: 0.0000, Test_Accuracy: 0.0000\n",
            "Epoch 9/25, Train_Loss: -0.0000, Train_Accuracy: 0.0000, Test_Accuracy: 0.0000\n",
            "Epoch 10/25, Train_Loss: -0.0000, Train_Accuracy: 0.0000, Test_Accuracy: 0.0000\n",
            "Epoch 11/25, Train_Loss: -0.0000, Train_Accuracy: 0.0000, Test_Accuracy: 0.0000\n",
            "Epoch 12/25, Train_Loss: -0.0000, Train_Accuracy: 0.0000, Test_Accuracy: 0.0000\n",
            "Epoch 13/25, Train_Loss: -0.0000, Train_Accuracy: 0.0000, Test_Accuracy: 0.0000\n",
            "Epoch 14/25, Train_Loss: -0.0000, Train_Accuracy: 0.0000, Test_Accuracy: 0.0000\n",
            "Epoch 15/25, Train_Loss: -0.0000, Train_Accuracy: 0.0000, Test_Accuracy: 0.0000\n",
            "Epoch 16/25, Train_Loss: -0.0000, Train_Accuracy: 0.0000, Test_Accuracy: 0.0000\n",
            "Epoch 17/25, Train_Loss: -0.0000, Train_Accuracy: 0.0000, Test_Accuracy: 0.0000\n",
            "Epoch 18/25, Train_Loss: -0.0000, Train_Accuracy: 0.0000, Test_Accuracy: 0.0000\n",
            "Epoch 19/25, Train_Loss: -0.0000, Train_Accuracy: 0.0000, Test_Accuracy: 0.0000\n",
            "Epoch 20/25, Train_Loss: -0.0000, Train_Accuracy: 0.0000, Test_Accuracy: 0.0000\n",
            "Epoch 21/25, Train_Loss: -0.0000, Train_Accuracy: 0.0000, Test_Accuracy: 0.0000\n",
            "Epoch 22/25, Train_Loss: -0.0000, Train_Accuracy: 0.0000, Test_Accuracy: 0.0000\n",
            "Epoch 23/25, Train_Loss: -0.0000, Train_Accuracy: 0.0000, Test_Accuracy: 0.0000\n",
            "Epoch 24/25, Train_Loss: -0.0000, Train_Accuracy: 0.0000, Test_Accuracy: 0.0000\n",
            "Epoch 25/25, Train_Loss: -0.0000, Train_Accuracy: 0.0000, Test_Accuracy: 0.0000\n",
            "Epoch 26/25, Train_Loss: -0.0000, Train_Accuracy: 0.0000, Test_Accuracy: 0.0000\n"
          ]
        },
        {
          "output_type": "display_data",
          "data": {
            "text/plain": [
              "<Figure size 640x480 with 1 Axes>"
            ],
            "image/png": "[encoded data removed]"
          },
          "metadata": {}
        },
        {
          "output_type": "display_data",
          "data": {
            "text/plain": [
              "<Figure size 640x480 with 1 Axes>"
            ],
            "image/png": "[encoded data removed]"
          },
          "metadata": {}
        },
        {
          "name": "stdout",
          "output_type": "stream",
          "text": [
            "Enter patient number: 591\n"
          ]
        }
      ]
    },
    {
      "cell_type": "markdown",
      "source": [
        "#Patient 540"
      ],
      "metadata": {
        "id": "iOZBLu6GJXQ4"
      }
    },
    {
      "cell_type": "code",
      "source": [
        "#creating dataframes\n",
        "file_path = '/content/Ohio Data/Ohio2020_processed/train/540-ws-training_processed.csv'\n",
        "dataframe = get_pandas_df(file_path)\n",
        "\n",
        "if dataframe is not None:\n",
        "  if len(dataframe) == 2:\n",
        "      train_df, val_df = dataframe\n",
        "      print('train_df, val_df created')\n",
        "  else:\n",
        "      test_df = dataframe\n",
        "      print('test_df created')\n",
        "file_path = '/content/Ohio Data/Ohio2020_processed/test/540-ws-testing_processed.csv'\n",
        "dataframe = get_pandas_df(file_path)\n",
        "if dataframe is not None:\n",
        "  if len(dataframe) == 2:\n",
        "      train_df, val_df = dataframe\n",
        "      print('train_df, val_df created')\n",
        "  else:\n",
        "      test_df = dataframe\n",
        "      print('test_df created')\n",
        "#Creating adjecency matrices\n",
        "train_A = A_matrix(train_df)\n",
        "val_A = A_matrix(val_df)\n",
        "test_A = A_matrix(test_df)\n",
        "#Create Pytorch geometric Data obj\n",
        "result = create_dataset_objs(train_df, val_df, test_df, train_A, val_A, test_A, columns_2020)\n",
        "# Check the result and use it accordingly\n",
        "if result is not None:\n",
        "    if len(result) == 2:\n",
        "        train_data, test_data = result\n",
        "        print(\"Train and validation to Test Data are available.\")\n",
        "        # Process train_data and test_data accordingly\n",
        "    elif len(result) == 3:\n",
        "        train_data, val_data, test_data = result\n",
        "        print(\"Train, Validation, and Test Data are available.\")\n",
        "        # Process train_data, val_data, and test_data accordingly\n",
        "    else:\n",
        "        print(\"No Data available.\")\n",
        "#train (number of fetures and epochs function already defined)\n",
        "!pwd\n",
        "num_of_feat, epochs = get_epochs_and_in_feat(train_data)\n",
        "net=simpleGNN(num_of_feat=num_of_feat,f=16)\n",
        "train(net,train_data, test_data,epochs)"
      ],
      "metadata": {
        "colab": {
          "base_uri": "https://localhost:8080/",
          "height": 1000
        },
        "outputId": "311fc5ec-b032-4af7-9688-99335bd9958f",
        "id": "GP8MrRl9JXQ_"
      },
      "execution_count": 7,
      "outputs": [
        {
          "output_type": "stream",
          "name": "stdout",
          "text": [
            "train_df, val_df created\n",
            "test_df created\n",
            "test_data is empty, using val_data as test_data\n",
            "Train and validation to Test Data are available.\n",
            "/content/Ohio Data/Ohio2020_processed/train\n",
            "Epoch 1/16, Train_Loss: -0.0000, Train_Accuracy: 0.0000, Test_Accuracy: 0.0000\n",
            "Epoch 2/16, Train_Loss: -0.0000, Train_Accuracy: 0.0000, Test_Accuracy: 0.0000\n",
            "Epoch 3/16, Train_Loss: -0.0000, Train_Accuracy: 0.0000, Test_Accuracy: 0.0000\n",
            "Epoch 4/16, Train_Loss: -0.0000, Train_Accuracy: 0.0000, Test_Accuracy: 0.0000\n",
            "Epoch 5/16, Train_Loss: -0.0000, Train_Accuracy: 0.0000, Test_Accuracy: 0.0000\n",
            "Epoch 6/16, Train_Loss: -0.0000, Train_Accuracy: 0.0000, Test_Accuracy: 0.0000\n",
            "Epoch 7/16, Train_Loss: -0.0000, Train_Accuracy: 0.0000, Test_Accuracy: 0.0000\n",
            "Epoch 8/16, Train_Loss: -0.0000, Train_Accuracy: 0.0000, Test_Accuracy: 0.0000\n",
            "Epoch 9/16, Train_Loss: -0.0000, Train_Accuracy: 0.0000, Test_Accuracy: 0.0000\n",
            "Epoch 10/16, Train_Loss: -0.0000, Train_Accuracy: 0.0000, Test_Accuracy: 0.0000\n",
            "Epoch 11/16, Train_Loss: -0.0000, Train_Accuracy: 0.0000, Test_Accuracy: 0.0000\n",
            "Epoch 12/16, Train_Loss: -0.0000, Train_Accuracy: 0.0000, Test_Accuracy: 0.0000\n",
            "Epoch 13/16, Train_Loss: -0.0000, Train_Accuracy: 0.0000, Test_Accuracy: 0.0000\n",
            "Epoch 14/16, Train_Loss: -0.0000, Train_Accuracy: 0.0000, Test_Accuracy: 0.0000\n",
            "Epoch 15/16, Train_Loss: -0.0000, Train_Accuracy: 0.0000, Test_Accuracy: 0.0000\n",
            "Epoch 16/16, Train_Loss: -0.0000, Train_Accuracy: 0.0000, Test_Accuracy: 0.0000\n",
            "Epoch 17/16, Train_Loss: -0.0000, Train_Accuracy: 0.0000, Test_Accuracy: 0.0000\n"
          ]
        },
        {
          "output_type": "display_data",
          "data": {
            "text/plain": [
              "<Figure size 640x480 with 1 Axes>"
            ],
            "image/png": "[encoded data removed]"
          },
          "metadata": {}
        },
        {
          "output_type": "display_data",
          "data": {
            "text/plain": [
              "<Figure size 640x480 with 1 Axes>"
            ],
            "image/png": "[encoded data removed]"
          },
          "metadata": {}
        },
        {
          "name": "stdout",
          "output_type": "stream",
          "text": [
            "Enter patient number: 540\n"
          ]
        }
      ]
    },
    {
      "cell_type": "markdown",
      "source": [
        "#Patient 544"
      ],
      "metadata": {
        "id": "ynNom6YQLk8e"
      }
    },
    {
      "cell_type": "code",
      "source": [
        "#creating dataframes\n",
        "file_path = '/content/Ohio Data/Ohio2020_processed/train/544-ws-training_processed.csv'\n",
        "dataframe = get_pandas_df(file_path)\n",
        "\n",
        "if dataframe is not None:\n",
        "  if len(dataframe) == 2:\n",
        "      train_df, val_df = dataframe\n",
        "      print('train_df, val_df created')\n",
        "  else:\n",
        "      test_df = dataframe\n",
        "      print('test_df created')\n",
        "file_path = '/content/Ohio Data/Ohio2020_processed/test/544-ws-testing_processed.csv'\n",
        "dataframe = get_pandas_df(file_path)\n",
        "if dataframe is not None:\n",
        "  if len(dataframe) == 2:\n",
        "      train_df, val_df = dataframe\n",
        "      print('train_df, val_df created')\n",
        "  else:\n",
        "      test_df = dataframe\n",
        "      print('test_df created')\n",
        "#Creating adjecency matrices\n",
        "train_A = A_matrix(train_df)\n",
        "val_A = A_matrix(val_df)\n",
        "test_A = A_matrix(test_df)\n",
        "#Create Pytorch geometric Data obj\n",
        "result = create_dataset_objs(train_df, val_df, test_df, train_A, val_A, test_A, columns_2020)\n",
        "# Check the result and use it accordingly\n",
        "if result is not None:\n",
        "    if len(result) == 2:\n",
        "        train_data, test_data = result\n",
        "        print(\"Train and validation to Test Data are available.\")\n",
        "        # Process train_data and test_data accordingly\n",
        "    elif len(result) == 3:\n",
        "        train_data, val_data, test_data = result\n",
        "        print(\"Train, Validation, and Test Data are available.\")\n",
        "        # Process train_data, val_data, and test_data accordingly\n",
        "    else:\n",
        "        print(\"No Data available.\")\n",
        "#train (number of fetures and epochs function already defined)\n",
        "!pwd\n",
        "num_of_feat, epochs = get_epochs_and_in_feat(train_data)\n",
        "net=simpleGNN(num_of_feat=num_of_feat,f=16)\n",
        "train(net,train_data, test_data,epochs)"
      ],
      "metadata": {
        "colab": {
          "base_uri": "https://localhost:8080/",
          "height": 1000
        },
        "outputId": "2c7a947a-69da-42b9-ae2e-21da2d65cc5b",
        "id": "Q-M-cSQaLk8e"
      },
      "execution_count": 8,
      "outputs": [
        {
          "output_type": "stream",
          "name": "stdout",
          "text": [
            "train_df, val_df created\n",
            "test_df created\n",
            "Train, Validation, and Test Data are available.\n",
            "/content/Ohio Data/Ohio2020_processed/train\n",
            "Epoch 1/16, Train_Loss: -0.0000, Train_Accuracy: 0.0000, Test_Accuracy: 0.0000\n",
            "Epoch 2/16, Train_Loss: -0.0000, Train_Accuracy: 0.0000, Test_Accuracy: 0.0000\n",
            "Epoch 3/16, Train_Loss: -0.0000, Train_Accuracy: 0.0000, Test_Accuracy: 0.0000\n",
            "Epoch 4/16, Train_Loss: -0.0000, Train_Accuracy: 0.0000, Test_Accuracy: 0.0000\n",
            "Epoch 5/16, Train_Loss: -0.0000, Train_Accuracy: 0.0000, Test_Accuracy: 0.0000\n",
            "Epoch 6/16, Train_Loss: -0.0000, Train_Accuracy: 0.0000, Test_Accuracy: 0.0000\n",
            "Epoch 7/16, Train_Loss: -0.0000, Train_Accuracy: 0.0000, Test_Accuracy: 0.0000\n",
            "Epoch 8/16, Train_Loss: -0.0000, Train_Accuracy: 0.0000, Test_Accuracy: 0.0000\n",
            "Epoch 9/16, Train_Loss: -0.0000, Train_Accuracy: 0.0000, Test_Accuracy: 0.0000\n",
            "Epoch 10/16, Train_Loss: -0.0000, Train_Accuracy: 0.0000, Test_Accuracy: 0.0000\n",
            "Epoch 11/16, Train_Loss: -0.0000, Train_Accuracy: 0.0000, Test_Accuracy: 0.0000\n",
            "Epoch 12/16, Train_Loss: -0.0000, Train_Accuracy: 0.0000, Test_Accuracy: 0.0000\n",
            "Epoch 13/16, Train_Loss: -0.0000, Train_Accuracy: 0.0000, Test_Accuracy: 0.0000\n",
            "Epoch 14/16, Train_Loss: -0.0000, Train_Accuracy: 0.0000, Test_Accuracy: 0.0000\n",
            "Epoch 15/16, Train_Loss: -0.0000, Train_Accuracy: 0.0000, Test_Accuracy: 0.0000\n",
            "Epoch 16/16, Train_Loss: -0.0000, Train_Accuracy: 0.0000, Test_Accuracy: 0.0000\n",
            "Epoch 17/16, Train_Loss: -0.0000, Train_Accuracy: 0.0000, Test_Accuracy: 0.0000\n"
          ]
        },
        {
          "output_type": "display_data",
          "data": {
            "text/plain": [
              "<Figure size 640x480 with 1 Axes>"
            ],
            "image/png": "[encoded data removed]"
          },
          "metadata": {}
        },
        {
          "output_type": "display_data",
          "data": {
            "text/plain": [
              "<Figure size 640x480 with 1 Axes>"
            ],
            "image/png": "[encoded data removed]"
          },
          "metadata": {}
        },
        {
          "name": "stdout",
          "output_type": "stream",
          "text": [
            "Enter patient number: 544\n"
          ]
        }
      ]
    },
    {
      "cell_type": "markdown",
      "source": [
        "#Patient 552: empty training dataset"
      ],
      "metadata": {
        "id": "IEkyfCXMLwvt"
      }
    },
    {
      "cell_type": "code",
      "source": [
        "#creating dataframes\n",
        "file_path = '/content/Ohio Data/Ohio2020_processed/train/552-ws-training_processed.csv'\n",
        "dataframe = get_pandas_df(file_path)\n",
        "\n",
        "if dataframe is not None:\n",
        "  if len(dataframe) == 2:\n",
        "      train_df, val_df = dataframe\n",
        "      print('train_df, val_df created')\n",
        "  else:\n",
        "      test_df = dataframe\n",
        "      print('test_df created')\n",
        "file_path = '/content/Ohio Data/Ohio2020_processed/test/552-ws-testing_processed.csv'\n",
        "dataframe = get_pandas_df(file_path)\n",
        "if dataframe is not None:\n",
        "  if len(dataframe) == 2:\n",
        "      train_df, val_df = dataframe\n",
        "      print('train_df, val_df created')\n",
        "  else:\n",
        "      test_df = dataframe\n",
        "      print('test_df created')\n",
        "#Creating adjecency matrices\n",
        "train_A = A_matrix(train_df)\n",
        "val_A = A_matrix(val_df)\n",
        "test_A = A_matrix(test_df)\n",
        "#Create Pytorch geometric Data obj\n",
        "result = create_dataset_objs(train_df, val_df, test_df, train_A, val_A, test_A, columns_2020)\n",
        "# Check the result and use it accordingly\n",
        "if result is not None:\n",
        "    if len(result) == 2:\n",
        "        train_data, test_data = result\n",
        "        print(\"Train and validation to Test Data are available.\")\n",
        "        # Process train_data and test_data accordingly\n",
        "    elif len(result) == 3:\n",
        "        train_data, val_data, test_data = result\n",
        "        print(\"Train, Validation, and Test Data are available.\")\n",
        "        # Process train_data, val_data, and test_data accordingly\n",
        "    else:\n",
        "        print(\"No Data available.\")\n",
        "#train (number of fetures and epochs function already defined)\n",
        "!pwd\n",
        "num_of_feat, epochs = get_epochs_and_in_feat(train_data)\n",
        "net=simpleGNN(num_of_feat=num_of_feat,f=16)\n",
        "train(net,train_data, test_data,epochs)"
      ],
      "metadata": {
        "colab": {
          "base_uri": "https://localhost:8080/",
          "height": 434
        },
        "outputId": "6137c76c-7a3e-44c9-800e-146ccfb0cf43",
        "id": "S1cbnkg3Lwvu"
      },
      "execution_count": 9,
      "outputs": [
        {
          "output_type": "error",
          "ename": "ValueError",
          "evalue": "With n_samples=0, test_size=0.2 and train_size=None, the resulting train set will be empty. Adjust any of the aforementioned parameters.",
          "traceback": [
            "\u001b[0;31m---------------------------------------------------------------------------\u001b[0m",
            "\u001b[0;31mValueError\u001b[0m                                Traceback (most recent call last)",
            "\u001b[0;32m<ipython-input-9-0fcaf6dfbbd7>\u001b[0m in \u001b[0;36m<cell line: 3>\u001b[0;34m()\u001b[0m\n\u001b[1;32m      1\u001b[0m \u001b[0;31m#creating dataframes\u001b[0m\u001b[0;34m\u001b[0m\u001b[0;34m\u001b[0m\u001b[0m\n\u001b[1;32m      2\u001b[0m \u001b[0mfile_path\u001b[0m \u001b[0;34m=\u001b[0m \u001b[0;34m'/content/Ohio Data/Ohio2020_processed/train/552-ws-training_processed.csv'\u001b[0m\u001b[0;34m\u001b[0m\u001b[0;34m\u001b[0m\u001b[0m\n\u001b[0;32m----> 3\u001b[0;31m \u001b[0mdataframe\u001b[0m \u001b[0;34m=\u001b[0m \u001b[0mget_pandas_df\u001b[0m\u001b[0;34m(\u001b[0m\u001b[0mfile_path\u001b[0m\u001b[0;34m)\u001b[0m\u001b[0;34m\u001b[0m\u001b[0;34m\u001b[0m\u001b[0m\n\u001b[0m\u001b[1;32m      4\u001b[0m \u001b[0;34m\u001b[0m\u001b[0m\n\u001b[1;32m      5\u001b[0m \u001b[0;32mif\u001b[0m \u001b[0mdataframe\u001b[0m \u001b[0;32mis\u001b[0m \u001b[0;32mnot\u001b[0m \u001b[0;32mNone\u001b[0m\u001b[0;34m:\u001b[0m\u001b[0;34m\u001b[0m\u001b[0;34m\u001b[0m\u001b[0m\n",
            "\u001b[0;32m/content/get_graph.py\u001b[0m in \u001b[0;36mget_pandas_df\u001b[0;34m(file_path)\u001b[0m\n\u001b[1;32m     37\u001b[0m     \u001b[0;31m#count only the labels you care\u001b[0m\u001b[0;34m\u001b[0m\u001b[0;34m\u001b[0m\u001b[0m\n\u001b[1;32m     38\u001b[0m     \u001b[0mfinal_df\u001b[0m \u001b[0;34m=\u001b[0m \u001b[0mdf\u001b[0m\u001b[0;34m[\u001b[0m\u001b[0mmycolumns\u001b[0m\u001b[0;34m]\u001b[0m\u001b[0;34m\u001b[0m\u001b[0;34m\u001b[0m\u001b[0m\n\u001b[0;32m---> 39\u001b[0;31m     \u001b[0mtrain_df\u001b[0m\u001b[0;34m,\u001b[0m \u001b[0mval_df\u001b[0m \u001b[0;34m=\u001b[0m \u001b[0mtrain_test_split\u001b[0m\u001b[0;34m(\u001b[0m\u001b[0mfinal_df\u001b[0m\u001b[0;34m,\u001b[0m \u001b[0mtest_size\u001b[0m\u001b[0;34m=\u001b[0m\u001b[0;36m0.20\u001b[0m\u001b[0;34m,\u001b[0m \u001b[0mshuffle\u001b[0m\u001b[0;34m=\u001b[0m\u001b[0;32mFalse\u001b[0m\u001b[0;34m)\u001b[0m\u001b[0;34m\u001b[0m\u001b[0;34m\u001b[0m\u001b[0m\n\u001b[0m\u001b[1;32m     40\u001b[0m     \u001b[0;32mreturn\u001b[0m \u001b[0mtrain_df\u001b[0m\u001b[0;34m,\u001b[0m \u001b[0mval_df\u001b[0m\u001b[0;34m\u001b[0m\u001b[0;34m\u001b[0m\u001b[0m\n\u001b[1;32m     41\u001b[0m   \u001b[0;32melse\u001b[0m\u001b[0;34m:\u001b[0m\u001b[0;34m\u001b[0m\u001b[0;34m\u001b[0m\u001b[0m\n",
            "\u001b[0;32m/usr/local/lib/python3.10/dist-packages/sklearn/model_selection/_split.py\u001b[0m in \u001b[0;36mtrain_test_split\u001b[0;34m(test_size, train_size, random_state, shuffle, stratify, *arrays)\u001b[0m\n\u001b[1;32m   2560\u001b[0m \u001b[0;34m\u001b[0m\u001b[0m\n\u001b[1;32m   2561\u001b[0m     \u001b[0mn_samples\u001b[0m \u001b[0;34m=\u001b[0m \u001b[0m_num_samples\u001b[0m\u001b[0;34m(\u001b[0m\u001b[0marrays\u001b[0m\u001b[0;34m[\u001b[0m\u001b[0;36m0\u001b[0m\u001b[0;34m]\u001b[0m\u001b[0;34m)\u001b[0m\u001b[0;34m\u001b[0m\u001b[0;34m\u001b[0m\u001b[0m\n\u001b[0;32m-> 2562\u001b[0;31m     n_train, n_test = _validate_shuffle_split(\n\u001b[0m\u001b[1;32m   2563\u001b[0m         \u001b[0mn_samples\u001b[0m\u001b[0;34m,\u001b[0m \u001b[0mtest_size\u001b[0m\u001b[0;34m,\u001b[0m \u001b[0mtrain_size\u001b[0m\u001b[0;34m,\u001b[0m \u001b[0mdefault_test_size\u001b[0m\u001b[0;34m=\u001b[0m\u001b[0;36m0.25\u001b[0m\u001b[0;34m\u001b[0m\u001b[0;34m\u001b[0m\u001b[0m\n\u001b[1;32m   2564\u001b[0m     )\n",
            "\u001b[0;32m/usr/local/lib/python3.10/dist-packages/sklearn/model_selection/_split.py\u001b[0m in \u001b[0;36m_validate_shuffle_split\u001b[0;34m(n_samples, test_size, train_size, default_test_size)\u001b[0m\n\u001b[1;32m   2234\u001b[0m \u001b[0;34m\u001b[0m\u001b[0m\n\u001b[1;32m   2235\u001b[0m     \u001b[0;32mif\u001b[0m \u001b[0mn_train\u001b[0m \u001b[0;34m==\u001b[0m \u001b[0;36m0\u001b[0m\u001b[0;34m:\u001b[0m\u001b[0;34m\u001b[0m\u001b[0;34m\u001b[0m\u001b[0m\n\u001b[0;32m-> 2236\u001b[0;31m         raise ValueError(\n\u001b[0m\u001b[1;32m   2237\u001b[0m             \u001b[0;34m\"With n_samples={}, test_size={} and train_size={}, the \"\u001b[0m\u001b[0;34m\u001b[0m\u001b[0;34m\u001b[0m\u001b[0m\n\u001b[1;32m   2238\u001b[0m             \u001b[0;34m\"resulting train set will be empty. Adjust any of the \"\u001b[0m\u001b[0;34m\u001b[0m\u001b[0;34m\u001b[0m\u001b[0m\n",
            "\u001b[0;31mValueError\u001b[0m: With n_samples=0, test_size=0.2 and train_size=None, the resulting train set will be empty. Adjust any of the aforementioned parameters."
          ]
        }
      ]
    },
    {
      "cell_type": "markdown",
      "source": [
        "#Patient 567: empty training dataset"
      ],
      "metadata": {
        "id": "MXM2yVdjMLc4"
      }
    },
    {
      "cell_type": "code",
      "source": [
        "#creating dataframes\n",
        "file_path = '/content/Ohio Data/Ohio2020_processed/train/567-ws-training_processed.csv'\n",
        "dataframe = get_pandas_df(file_path)\n",
        "\n",
        "if dataframe is not None:\n",
        "  if len(dataframe) == 2:\n",
        "      train_df, val_df = dataframe\n",
        "      print('train_df, val_df created')\n",
        "  else:\n",
        "      test_df = dataframe\n",
        "      print('test_df created')\n",
        "file_path = '/content/Ohio Data/Ohio2020_processed/test/567-ws-testing_processed.csv'\n",
        "dataframe = get_pandas_df(file_path)\n",
        "if dataframe is not None:\n",
        "  if len(dataframe) == 2:\n",
        "      train_df, val_df = dataframe\n",
        "      print('train_df, val_df created')\n",
        "  else:\n",
        "      test_df = dataframe\n",
        "      print('test_df created')\n",
        "#Creating adjecency matrices\n",
        "train_A = A_matrix(train_df)\n",
        "val_A = A_matrix(val_df)\n",
        "test_A = A_matrix(test_df)\n",
        "#Create Pytorch geometric Data obj\n",
        "result = create_dataset_objs(train_df, val_df, test_df, train_A, val_A, test_A, columns_2020)\n",
        "# Check the result and use it accordingly\n",
        "if result is not None:\n",
        "    if len(result) == 2:\n",
        "        train_data, test_data = result\n",
        "        print(\"Train and validation to Test Data are available.\")\n",
        "        # Process train_data and test_data accordingly\n",
        "    elif len(result) == 3:\n",
        "        train_data, val_data, test_data = result\n",
        "        print(\"Train, Validation, and Test Data are available.\")\n",
        "        # Process train_data, val_data, and test_data accordingly\n",
        "    else:\n",
        "        print(\"No Data available.\")\n",
        "#train (number of fetures and epochs function already defined)\n",
        "!pwd\n",
        "num_of_feat, epochs = get_epochs_and_in_feat(train_data)\n",
        "net=simpleGNN(num_of_feat=num_of_feat,f=16)\n",
        "train(net,train_data, test_data,epochs)"
      ],
      "metadata": {
        "colab": {
          "base_uri": "https://localhost:8080/",
          "height": 434
        },
        "outputId": "221fe25e-b0ff-4864-a793-22e0ec0c2139",
        "id": "aAnqagA-MLc4"
      },
      "execution_count": 10,
      "outputs": [
        {
          "output_type": "error",
          "ename": "ValueError",
          "evalue": "With n_samples=0, test_size=0.2 and train_size=None, the resulting train set will be empty. Adjust any of the aforementioned parameters.",
          "traceback": [
            "\u001b[0;31m---------------------------------------------------------------------------\u001b[0m",
            "\u001b[0;31mValueError\u001b[0m                                Traceback (most recent call last)",
            "\u001b[0;32m<ipython-input-10-782ac19611e2>\u001b[0m in \u001b[0;36m<cell line: 3>\u001b[0;34m()\u001b[0m\n\u001b[1;32m      1\u001b[0m \u001b[0;31m#creating dataframes\u001b[0m\u001b[0;34m\u001b[0m\u001b[0;34m\u001b[0m\u001b[0m\n\u001b[1;32m      2\u001b[0m \u001b[0mfile_path\u001b[0m \u001b[0;34m=\u001b[0m \u001b[0;34m'/content/Ohio Data/Ohio2020_processed/train/567-ws-training_processed.csv'\u001b[0m\u001b[0;34m\u001b[0m\u001b[0;34m\u001b[0m\u001b[0m\n\u001b[0;32m----> 3\u001b[0;31m \u001b[0mdataframe\u001b[0m \u001b[0;34m=\u001b[0m \u001b[0mget_pandas_df\u001b[0m\u001b[0;34m(\u001b[0m\u001b[0mfile_path\u001b[0m\u001b[0;34m)\u001b[0m\u001b[0;34m\u001b[0m\u001b[0;34m\u001b[0m\u001b[0m\n\u001b[0m\u001b[1;32m      4\u001b[0m \u001b[0;34m\u001b[0m\u001b[0m\n\u001b[1;32m      5\u001b[0m \u001b[0;32mif\u001b[0m \u001b[0mdataframe\u001b[0m \u001b[0;32mis\u001b[0m \u001b[0;32mnot\u001b[0m \u001b[0;32mNone\u001b[0m\u001b[0;34m:\u001b[0m\u001b[0;34m\u001b[0m\u001b[0;34m\u001b[0m\u001b[0m\n",
            "\u001b[0;32m/content/get_graph.py\u001b[0m in \u001b[0;36mget_pandas_df\u001b[0;34m(file_path)\u001b[0m\n\u001b[1;32m     37\u001b[0m     \u001b[0;31m#count only the labels you care\u001b[0m\u001b[0;34m\u001b[0m\u001b[0;34m\u001b[0m\u001b[0m\n\u001b[1;32m     38\u001b[0m     \u001b[0mfinal_df\u001b[0m \u001b[0;34m=\u001b[0m \u001b[0mdf\u001b[0m\u001b[0;34m[\u001b[0m\u001b[0mmycolumns\u001b[0m\u001b[0;34m]\u001b[0m\u001b[0;34m\u001b[0m\u001b[0;34m\u001b[0m\u001b[0m\n\u001b[0;32m---> 39\u001b[0;31m     \u001b[0mtrain_df\u001b[0m\u001b[0;34m,\u001b[0m \u001b[0mval_df\u001b[0m \u001b[0;34m=\u001b[0m \u001b[0mtrain_test_split\u001b[0m\u001b[0;34m(\u001b[0m\u001b[0mfinal_df\u001b[0m\u001b[0;34m,\u001b[0m \u001b[0mtest_size\u001b[0m\u001b[0;34m=\u001b[0m\u001b[0;36m0.20\u001b[0m\u001b[0;34m,\u001b[0m \u001b[0mshuffle\u001b[0m\u001b[0;34m=\u001b[0m\u001b[0;32mFalse\u001b[0m\u001b[0;34m)\u001b[0m\u001b[0;34m\u001b[0m\u001b[0;34m\u001b[0m\u001b[0m\n\u001b[0m\u001b[1;32m     40\u001b[0m     \u001b[0;32mreturn\u001b[0m \u001b[0mtrain_df\u001b[0m\u001b[0;34m,\u001b[0m \u001b[0mval_df\u001b[0m\u001b[0;34m\u001b[0m\u001b[0;34m\u001b[0m\u001b[0m\n\u001b[1;32m     41\u001b[0m   \u001b[0;32melse\u001b[0m\u001b[0;34m:\u001b[0m\u001b[0;34m\u001b[0m\u001b[0;34m\u001b[0m\u001b[0m\n",
            "\u001b[0;32m/usr/local/lib/python3.10/dist-packages/sklearn/model_selection/_split.py\u001b[0m in \u001b[0;36mtrain_test_split\u001b[0;34m(test_size, train_size, random_state, shuffle, stratify, *arrays)\u001b[0m\n\u001b[1;32m   2560\u001b[0m \u001b[0;34m\u001b[0m\u001b[0m\n\u001b[1;32m   2561\u001b[0m     \u001b[0mn_samples\u001b[0m \u001b[0;34m=\u001b[0m \u001b[0m_num_samples\u001b[0m\u001b[0;34m(\u001b[0m\u001b[0marrays\u001b[0m\u001b[0;34m[\u001b[0m\u001b[0;36m0\u001b[0m\u001b[0;34m]\u001b[0m\u001b[0;34m)\u001b[0m\u001b[0;34m\u001b[0m\u001b[0;34m\u001b[0m\u001b[0m\n\u001b[0;32m-> 2562\u001b[0;31m     n_train, n_test = _validate_shuffle_split(\n\u001b[0m\u001b[1;32m   2563\u001b[0m         \u001b[0mn_samples\u001b[0m\u001b[0;34m,\u001b[0m \u001b[0mtest_size\u001b[0m\u001b[0;34m,\u001b[0m \u001b[0mtrain_size\u001b[0m\u001b[0;34m,\u001b[0m \u001b[0mdefault_test_size\u001b[0m\u001b[0;34m=\u001b[0m\u001b[0;36m0.25\u001b[0m\u001b[0;34m\u001b[0m\u001b[0;34m\u001b[0m\u001b[0m\n\u001b[1;32m   2564\u001b[0m     )\n",
            "\u001b[0;32m/usr/local/lib/python3.10/dist-packages/sklearn/model_selection/_split.py\u001b[0m in \u001b[0;36m_validate_shuffle_split\u001b[0;34m(n_samples, test_size, train_size, default_test_size)\u001b[0m\n\u001b[1;32m   2234\u001b[0m \u001b[0;34m\u001b[0m\u001b[0m\n\u001b[1;32m   2235\u001b[0m     \u001b[0;32mif\u001b[0m \u001b[0mn_train\u001b[0m \u001b[0;34m==\u001b[0m \u001b[0;36m0\u001b[0m\u001b[0;34m:\u001b[0m\u001b[0;34m\u001b[0m\u001b[0;34m\u001b[0m\u001b[0m\n\u001b[0;32m-> 2236\u001b[0;31m         raise ValueError(\n\u001b[0m\u001b[1;32m   2237\u001b[0m             \u001b[0;34m\"With n_samples={}, test_size={} and train_size={}, the \"\u001b[0m\u001b[0;34m\u001b[0m\u001b[0;34m\u001b[0m\u001b[0m\n\u001b[1;32m   2238\u001b[0m             \u001b[0;34m\"resulting train set will be empty. Adjust any of the \"\u001b[0m\u001b[0;34m\u001b[0m\u001b[0;34m\u001b[0m\u001b[0m\n",
            "\u001b[0;31mValueError\u001b[0m: With n_samples=0, test_size=0.2 and train_size=None, the resulting train set will be empty. Adjust any of the aforementioned parameters."
          ]
        }
      ]
    },
    {
      "cell_type": "markdown",
      "source": [
        "#Patient 584: only 1 sample"
      ],
      "metadata": {
        "id": "cddNScIXMk0W"
      }
    },
    {
      "cell_type": "code",
      "source": [
        "#creating dataframes\n",
        "file_path = '/content/Ohio Data/Ohio2020_processed/train/584-ws-training_processed.csv'\n",
        "dataframe = get_pandas_df(file_path)\n",
        "\n",
        "if dataframe is not None:\n",
        "  if len(dataframe) == 2:\n",
        "      train_df, val_df = dataframe\n",
        "      print('train_df, val_df created')\n",
        "  else:\n",
        "      test_df = dataframe\n",
        "      print('test_df created')\n",
        "file_path = '/content/Ohio Data/Ohio2020_processed/test/584-ws-testing_processed.csv'\n",
        "dataframe = get_pandas_df(file_path)\n",
        "if dataframe is not None:\n",
        "  if len(dataframe) == 2:\n",
        "      train_df, val_df = dataframe\n",
        "      print('train_df, val_df created')\n",
        "  else:\n",
        "      test_df = dataframe\n",
        "      print('test_df created')\n",
        "#Creating adjecency matrices\n",
        "train_A = A_matrix(train_df)\n",
        "val_A = A_matrix(val_df)\n",
        "test_A = A_matrix(test_df)\n",
        "#Create Pytorch geometric Data obj\n",
        "result = create_dataset_objs(train_df, val_df, test_df, train_A, val_A, test_A, columns_2020)\n",
        "# Check the result and use it accordingly\n",
        "if result is not None:\n",
        "    if len(result) == 2:\n",
        "        train_data, test_data = result\n",
        "        print(\"Train and validation to Test Data are available.\")\n",
        "        # Process train_data and test_data accordingly\n",
        "    elif len(result) == 3:\n",
        "        train_data, val_data, test_data = result\n",
        "        print(\"Train, Validation, and Test Data are available.\")\n",
        "        # Process train_data, val_data, and test_data accordingly\n",
        "    else:\n",
        "        print(\"No Data available.\")\n",
        "#train (number of fetures and epochs function already defined)\n",
        "!pwd\n",
        "num_of_feat, epochs = get_epochs_and_in_feat(train_data)\n",
        "net=simpleGNN(num_of_feat=num_of_feat,f=16)\n",
        "train(net,train_data, test_data,epochs)"
      ],
      "metadata": {
        "colab": {
          "base_uri": "https://localhost:8080/",
          "height": 434
        },
        "outputId": "abd60d36-d5b7-44d9-fd97-445d2484205b",
        "id": "DtdgLMzuMk0W"
      },
      "execution_count": 11,
      "outputs": [
        {
          "output_type": "error",
          "ename": "ValueError",
          "evalue": "With n_samples=1, test_size=0.2 and train_size=None, the resulting train set will be empty. Adjust any of the aforementioned parameters.",
          "traceback": [
            "\u001b[0;31m---------------------------------------------------------------------------\u001b[0m",
            "\u001b[0;31mValueError\u001b[0m                                Traceback (most recent call last)",
            "\u001b[0;32m<ipython-input-11-3eb5e4307b62>\u001b[0m in \u001b[0;36m<cell line: 3>\u001b[0;34m()\u001b[0m\n\u001b[1;32m      1\u001b[0m \u001b[0;31m#creating dataframes\u001b[0m\u001b[0;34m\u001b[0m\u001b[0;34m\u001b[0m\u001b[0m\n\u001b[1;32m      2\u001b[0m \u001b[0mfile_path\u001b[0m \u001b[0;34m=\u001b[0m \u001b[0;34m'/content/Ohio Data/Ohio2020_processed/train/584-ws-training_processed.csv'\u001b[0m\u001b[0;34m\u001b[0m\u001b[0;34m\u001b[0m\u001b[0m\n\u001b[0;32m----> 3\u001b[0;31m \u001b[0mdataframe\u001b[0m \u001b[0;34m=\u001b[0m \u001b[0mget_pandas_df\u001b[0m\u001b[0;34m(\u001b[0m\u001b[0mfile_path\u001b[0m\u001b[0;34m)\u001b[0m\u001b[0;34m\u001b[0m\u001b[0;34m\u001b[0m\u001b[0m\n\u001b[0m\u001b[1;32m      4\u001b[0m \u001b[0;34m\u001b[0m\u001b[0m\n\u001b[1;32m      5\u001b[0m \u001b[0;32mif\u001b[0m \u001b[0mdataframe\u001b[0m \u001b[0;32mis\u001b[0m \u001b[0;32mnot\u001b[0m \u001b[0;32mNone\u001b[0m\u001b[0;34m:\u001b[0m\u001b[0;34m\u001b[0m\u001b[0;34m\u001b[0m\u001b[0m\n",
            "\u001b[0;32m/content/get_graph.py\u001b[0m in \u001b[0;36mget_pandas_df\u001b[0;34m(file_path)\u001b[0m\n\u001b[1;32m     37\u001b[0m     \u001b[0;31m#count only the labels you care\u001b[0m\u001b[0;34m\u001b[0m\u001b[0;34m\u001b[0m\u001b[0m\n\u001b[1;32m     38\u001b[0m     \u001b[0mfinal_df\u001b[0m \u001b[0;34m=\u001b[0m \u001b[0mdf\u001b[0m\u001b[0;34m[\u001b[0m\u001b[0mmycolumns\u001b[0m\u001b[0;34m]\u001b[0m\u001b[0;34m\u001b[0m\u001b[0;34m\u001b[0m\u001b[0m\n\u001b[0;32m---> 39\u001b[0;31m     \u001b[0mtrain_df\u001b[0m\u001b[0;34m,\u001b[0m \u001b[0mval_df\u001b[0m \u001b[0;34m=\u001b[0m \u001b[0mtrain_test_split\u001b[0m\u001b[0;34m(\u001b[0m\u001b[0mfinal_df\u001b[0m\u001b[0;34m,\u001b[0m \u001b[0mtest_size\u001b[0m\u001b[0;34m=\u001b[0m\u001b[0;36m0.20\u001b[0m\u001b[0;34m,\u001b[0m \u001b[0mshuffle\u001b[0m\u001b[0;34m=\u001b[0m\u001b[0;32mFalse\u001b[0m\u001b[0;34m)\u001b[0m\u001b[0;34m\u001b[0m\u001b[0;34m\u001b[0m\u001b[0m\n\u001b[0m\u001b[1;32m     40\u001b[0m     \u001b[0;32mreturn\u001b[0m \u001b[0mtrain_df\u001b[0m\u001b[0;34m,\u001b[0m \u001b[0mval_df\u001b[0m\u001b[0;34m\u001b[0m\u001b[0;34m\u001b[0m\u001b[0m\n\u001b[1;32m     41\u001b[0m   \u001b[0;32melse\u001b[0m\u001b[0;34m:\u001b[0m\u001b[0;34m\u001b[0m\u001b[0;34m\u001b[0m\u001b[0m\n",
            "\u001b[0;32m/usr/local/lib/python3.10/dist-packages/sklearn/model_selection/_split.py\u001b[0m in \u001b[0;36mtrain_test_split\u001b[0;34m(test_size, train_size, random_state, shuffle, stratify, *arrays)\u001b[0m\n\u001b[1;32m   2560\u001b[0m \u001b[0;34m\u001b[0m\u001b[0m\n\u001b[1;32m   2561\u001b[0m     \u001b[0mn_samples\u001b[0m \u001b[0;34m=\u001b[0m \u001b[0m_num_samples\u001b[0m\u001b[0;34m(\u001b[0m\u001b[0marrays\u001b[0m\u001b[0;34m[\u001b[0m\u001b[0;36m0\u001b[0m\u001b[0;34m]\u001b[0m\u001b[0;34m)\u001b[0m\u001b[0;34m\u001b[0m\u001b[0;34m\u001b[0m\u001b[0m\n\u001b[0;32m-> 2562\u001b[0;31m     n_train, n_test = _validate_shuffle_split(\n\u001b[0m\u001b[1;32m   2563\u001b[0m         \u001b[0mn_samples\u001b[0m\u001b[0;34m,\u001b[0m \u001b[0mtest_size\u001b[0m\u001b[0;34m,\u001b[0m \u001b[0mtrain_size\u001b[0m\u001b[0;34m,\u001b[0m \u001b[0mdefault_test_size\u001b[0m\u001b[0;34m=\u001b[0m\u001b[0;36m0.25\u001b[0m\u001b[0;34m\u001b[0m\u001b[0;34m\u001b[0m\u001b[0m\n\u001b[1;32m   2564\u001b[0m     )\n",
            "\u001b[0;32m/usr/local/lib/python3.10/dist-packages/sklearn/model_selection/_split.py\u001b[0m in \u001b[0;36m_validate_shuffle_split\u001b[0;34m(n_samples, test_size, train_size, default_test_size)\u001b[0m\n\u001b[1;32m   2234\u001b[0m \u001b[0;34m\u001b[0m\u001b[0m\n\u001b[1;32m   2235\u001b[0m     \u001b[0;32mif\u001b[0m \u001b[0mn_train\u001b[0m \u001b[0;34m==\u001b[0m \u001b[0;36m0\u001b[0m\u001b[0;34m:\u001b[0m\u001b[0;34m\u001b[0m\u001b[0;34m\u001b[0m\u001b[0m\n\u001b[0;32m-> 2236\u001b[0;31m         raise ValueError(\n\u001b[0m\u001b[1;32m   2237\u001b[0m             \u001b[0;34m\"With n_samples={}, test_size={} and train_size={}, the \"\u001b[0m\u001b[0;34m\u001b[0m\u001b[0;34m\u001b[0m\u001b[0m\n\u001b[1;32m   2238\u001b[0m             \u001b[0;34m\"resulting train set will be empty. Adjust any of the \"\u001b[0m\u001b[0;34m\u001b[0m\u001b[0;34m\u001b[0m\u001b[0m\n",
            "\u001b[0;31mValueError\u001b[0m: With n_samples=1, test_size=0.2 and train_size=None, the resulting train set will be empty. Adjust any of the aforementioned parameters."
          ]
        }
      ]
    },
    {
      "cell_type": "markdown",
      "source": [
        "#Patient 596"
      ],
      "metadata": {
        "id": "z19L_lsXM7KG"
      }
    },
    {
      "cell_type": "code",
      "source": [
        "#creating dataframes\n",
        "file_path = '/content/Ohio Data/Ohio2020_processed/train/596-ws-training_processed.csv'\n",
        "dataframe = get_pandas_df(file_path)\n",
        "\n",
        "if dataframe is not None:\n",
        "  if len(dataframe) == 2:\n",
        "      train_df, val_df = dataframe\n",
        "      print('train_df, val_df created')\n",
        "  else:\n",
        "      test_df = dataframe\n",
        "      print('test_df created')\n",
        "file_path = '/content/Ohio Data/Ohio2020_processed/test/596-ws-testing_processed.csv'\n",
        "dataframe = get_pandas_df(file_path)\n",
        "if dataframe is not None:\n",
        "  if len(dataframe) == 2:\n",
        "      train_df, val_df = dataframe\n",
        "      print('train_df, val_df created')\n",
        "  else:\n",
        "      test_df = dataframe\n",
        "      print('test_df created')\n",
        "#Creating adjecency matrices\n",
        "train_A = A_matrix(train_df)\n",
        "val_A = A_matrix(val_df)\n",
        "test_A = A_matrix(test_df)\n",
        "#Create Pytorch geometric Data obj\n",
        "result = create_dataset_objs(train_df, val_df, test_df, train_A, val_A, test_A, columns_2020)\n",
        "# Check the result and use it accordingly\n",
        "if result is not None:\n",
        "    if len(result) == 2:\n",
        "        train_data, test_data = result\n",
        "        print(\"Train and validation to Test Data are available.\")\n",
        "        # Process train_data and test_data accordingly\n",
        "    elif len(result) == 3:\n",
        "        train_data, val_data, test_data = result\n",
        "        print(\"Train, Validation, and Test Data are available.\")\n",
        "        # Process train_data, val_data, and test_data accordingly\n",
        "    else:\n",
        "        print(\"No Data available.\")\n",
        "#train (number of fetures and epochs function already defined)\n",
        "!pwd\n",
        "num_of_feat, epochs = get_epochs_and_in_feat(train_data)\n",
        "net=simpleGNN(num_of_feat=num_of_feat,f=16)\n",
        "train(net,train_data, test_data,epochs)"
      ],
      "metadata": {
        "colab": {
          "base_uri": "https://localhost:8080/",
          "height": 1000
        },
        "outputId": "d6d6bbce-9c62-4287-891e-a4d1db0e31aa",
        "id": "eNPiLZBxM7KN"
      },
      "execution_count": 12,
      "outputs": [
        {
          "output_type": "stream",
          "name": "stdout",
          "text": [
            "train_df, val_df created\n",
            "test_df created\n",
            "test_data is empty, using val_data as test_data\n",
            "Train and validation to Test Data are available.\n",
            "/content/Ohio Data/Ohio2020_processed/train\n",
            "Epoch 1/16, Train_Loss: -0.0000, Train_Accuracy: 0.0000, Test_Accuracy: 0.0000\n",
            "Epoch 2/16, Train_Loss: -0.0000, Train_Accuracy: 0.0000, Test_Accuracy: 0.0000\n",
            "Epoch 3/16, Train_Loss: -0.0000, Train_Accuracy: 0.0000, Test_Accuracy: 0.0000\n",
            "Epoch 4/16, Train_Loss: -0.0000, Train_Accuracy: 0.0000, Test_Accuracy: 0.0000\n",
            "Epoch 5/16, Train_Loss: -0.0000, Train_Accuracy: 0.0000, Test_Accuracy: 0.0000\n",
            "Epoch 6/16, Train_Loss: -0.0000, Train_Accuracy: 0.0000, Test_Accuracy: 0.0000\n",
            "Epoch 7/16, Train_Loss: -0.0000, Train_Accuracy: 0.0000, Test_Accuracy: 0.0000\n",
            "Epoch 8/16, Train_Loss: -0.0000, Train_Accuracy: 0.0000, Test_Accuracy: 0.0000\n",
            "Epoch 9/16, Train_Loss: -0.0000, Train_Accuracy: 0.0000, Test_Accuracy: 0.0000\n",
            "Epoch 10/16, Train_Loss: -0.0000, Train_Accuracy: 0.0000, Test_Accuracy: 0.0000\n",
            "Epoch 11/16, Train_Loss: -0.0000, Train_Accuracy: 0.0000, Test_Accuracy: 0.0000\n",
            "Epoch 12/16, Train_Loss: -0.0000, Train_Accuracy: 0.0000, Test_Accuracy: 0.0000\n",
            "Epoch 13/16, Train_Loss: -0.0000, Train_Accuracy: 0.0000, Test_Accuracy: 0.0000\n",
            "Epoch 14/16, Train_Loss: -0.0000, Train_Accuracy: 0.0000, Test_Accuracy: 0.0000\n",
            "Epoch 15/16, Train_Loss: -0.0000, Train_Accuracy: 0.0000, Test_Accuracy: 0.0000\n",
            "Epoch 16/16, Train_Loss: -0.0000, Train_Accuracy: 0.0000, Test_Accuracy: 0.0000\n",
            "Epoch 17/16, Train_Loss: -0.0000, Train_Accuracy: 0.0000, Test_Accuracy: 0.0000\n"
          ]
        },
        {
          "output_type": "display_data",
          "data": {
            "text/plain": [
              "<Figure size 640x480 with 1 Axes>"
            ],
            "image/png": "[encoded data removed]"
          },
          "metadata": {}
        },
        {
          "output_type": "display_data",
          "data": {
            "text/plain": [
              "<Figure size 640x480 with 1 Axes>"
            ],
            "image/png": "[encoded data removed]"
          },
          "metadata": {}
        },
        {
          "name": "stdout",
          "output_type": "stream",
          "text": [
            "Enter patient number: 596\n"
          ]
        }
      ]
    },
    {
      "cell_type": "markdown",
      "source": [
        "# Federated Averaging"
      ],
      "metadata": {
        "id": "97ZBR04qOvyx"
      }
    },
    {
      "cell_type": "code",
      "source": [
        "#load checkpoints\n",
        "model = torch.load('/content/Checkpoints/540.pth')\n",
        "print(model.keys())#odict_keys(['conv1.bias', 'conv1.lin.weight', 'conv2.bias', 'conv2.lin.weight'])\n",
        "\n",
        "def weight_scaling_factor(train_df):\n",
        "  global count = get sum of num_of_feat across all patients\n",
        "  local count= num of feat of current patient\n",
        "  scaling_patient = local_count / global_count\n",
        "  return scaling_patient\n",
        "\n",
        "\n",
        "def scale_model_weights(weights, weight_scaling_factor):\n",
        "  # weights = model['conv1.lin.weight']+model['conv2.lin.weight']\n",
        "  #scaling factor = list of all scaling patients\n",
        "  scaled_weights = []\n",
        "  # Scale each layer's weights\n",
        "  for w in weights:\n",
        "      scaled_weights.append(scaling_factor* w.clone().detach())\n",
        "  return scaled_weights\n",
        "\n",
        "def mean_scaled_weights(scaled_weights):\n",
        "  return torch.mean(scaled_weights)\n"
      ],
      "metadata": {
        "colab": {
          "base_uri": "https://localhost:8080/"
        },
        "id": "f56ledbHOrUX",
        "outputId": "6fbfc834-bdaf-4dce-f71a-c7af06889fab"
      },
      "execution_count": 19,
      "outputs": [
        {
          "output_type": "stream",
          "name": "stdout",
          "text": [
            "odict_keys(['conv1.bias', 'conv1.lin.weight', 'conv2.bias', 'conv2.lin.weight'])\n"
          ]
        }
      ]
    },
    {
      "cell_type": "markdown",
      "source": [
        "Federated model training\n",
        "\n"
      ],
      "metadata": {
        "id": "qH3kvJxQV7ak"
      }
    },
    {
      "cell_type": "code",
      "source": [
        "def federated_training(model, scaled_weights):\n",
        "    # Initialize an empty tensor for the aggregated weights\n",
        "    #my global simpleGNN is initialised as with zeros as weights and biases\n",
        "    model.load_state_dict(torch._scaled_dot_product_attention_math_weights)"
      ],
      "metadata": {
        "id": "W4iQ-MvcV5kF"
      },
      "execution_count": null,
      "outputs": []
    }
  ],
  "metadata": {
    "accelerator": "TPU",
    "colab": {
      "provenance": [],
      "collapsed_sections": [
        "Nv3gNkz9-FTP",
        "WVVmDq4tGd2_",
        "642VdW6AHTsY",
        "8bWx0X3rIHAQ",
        "Yci1z07cIiFJ",
        "iOZBLu6GJXQ4",
        "ynNom6YQLk8e",
        "IEkyfCXMLwvt",
        "MXM2yVdjMLc4",
        "cddNScIXMk0W"
      ]
    },
    "kernelspec": {
      "display_name": "Python 3",
      "name": "python3"
    },
    "language_info": {
      "name": "python"
    }
  },
  "nbformat": 4,
  "nbformat_minor": 0
}